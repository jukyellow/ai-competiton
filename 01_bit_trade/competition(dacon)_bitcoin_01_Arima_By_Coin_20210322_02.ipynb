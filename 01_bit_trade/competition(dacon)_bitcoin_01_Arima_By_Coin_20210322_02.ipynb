{
  "nbformat": 4,
  "nbformat_minor": 0,
  "metadata": {
    "colab": {
      "name": "competition(dacon)_bitcoin_01_Arima_By_Coin_20210322_02.ipynb",
      "provenance": [],
      "collapsed_sections": [],
      "machine_shape": "hm"
    },
    "kernelspec": {
      "name": "python3",
      "display_name": "Python 3"
    },
    "language_info": {
      "name": "python"
    },
    "accelerator": "GPU"
  },
  "cells": [
    {
      "cell_type": "code",
      "metadata": {
        "id": "3Xg0mxx20JXf"
      },
      "source": [
        "# 전략: ARIMA 모델에 기술지표(이동평균선 등) feature를 결과를 더하고 결과를 ARIMA원본과 비교"
      ],
      "execution_count": 1,
      "outputs": []
    },
    {
      "cell_type": "code",
      "metadata": {
        "colab": {
          "base_uri": "https://localhost:8080/"
        },
        "id": "tnHbnqsz9J80",
        "outputId": "62aece90-18aa-4168-fcef-ea70b12402dc"
      },
      "source": [
        "#Colab에 주식관련 Lib 설치(Ta-Lib)\n",
        "\n",
        "# (2020) https://stackoverflow.com/questions/49648391/how-to-install-ta-lib-in-google-colab\n",
        "url = 'https://launchpad.net/~mario-mariomedina/+archive/ubuntu/talib/+files'\n",
        "!wget $url/libta-lib0_0.4.0-oneiric1_amd64.deb -qO libta.deb\n",
        "!wget $url/ta-lib0-dev_0.4.0-oneiric1_amd64.deb -qO ta.deb\n",
        "!dpkg -i libta.deb ta.deb\n",
        "!pip install ta-lib\n",
        "import talib"
      ],
      "execution_count": 2,
      "outputs": [
        {
          "output_type": "stream",
          "text": [
            "(Reading database ... \r(Reading database ... 5%\r(Reading database ... 10%\r(Reading database ... 15%\r(Reading database ... 20%\r(Reading database ... 25%\r(Reading database ... 30%\r(Reading database ... 35%\r(Reading database ... 40%\r(Reading database ... 45%\r(Reading database ... 50%\r(Reading database ... 55%\r(Reading database ... 60%\r(Reading database ... 65%\r(Reading database ... 70%\r(Reading database ... 75%\r(Reading database ... 80%\r(Reading database ... 85%\r(Reading database ... 90%\r(Reading database ... 95%\r(Reading database ... 100%\r(Reading database ... 161006 files and directories currently installed.)\n",
            "Preparing to unpack libta.deb ...\n",
            "Unpacking libta-lib0 (0.4.0-oneiric1) over (0.4.0-oneiric1) ...\n",
            "Preparing to unpack ta.deb ...\n",
            "Unpacking ta-lib0-dev (0.4.0-oneiric1) over (0.4.0-oneiric1) ...\n",
            "Setting up libta-lib0 (0.4.0-oneiric1) ...\n",
            "Setting up ta-lib0-dev (0.4.0-oneiric1) ...\n",
            "Processing triggers for man-db (2.8.3-2ubuntu0.1) ...\n",
            "Processing triggers for libc-bin (2.27-3ubuntu1.2) ...\n",
            "/sbin/ldconfig.real: /usr/local/lib/python3.7/dist-packages/ideep4py/lib/libmkldnn.so.0 is not a symbolic link\n",
            "\n",
            "Requirement already satisfied: ta-lib in /usr/local/lib/python3.7/dist-packages (0.4.19)\n",
            "Requirement already satisfied: numpy in /usr/local/lib/python3.7/dist-packages (from ta-lib) (1.19.5)\n"
          ],
          "name": "stdout"
        }
      ]
    },
    {
      "cell_type": "code",
      "metadata": {
        "id": "G4ZibJQZ0dLQ"
      },
      "source": [
        "# 1.data 다운로드\n",
        "#구글 드라이브에서 다운로드\n",
        "from google.colab import auth\n",
        "auth.authenticate_user()\n",
        "from googleapiclient.discovery import build\n",
        "drive_service = build('drive', 'v3')\n",
        "import io\n",
        "from io import BytesIO \n",
        "from googleapiclient.http import MediaIoBaseDownload\n",
        "\n",
        "TEMP_PATH = '/tmp/'\n",
        "def gcp_download(file_name, key):\n",
        "    #3. 모델 다운로드\n",
        "    #https://drive.google.com/open?id=1TlvbayGRCjAI6bOZrUYMmv6g6b95rnRM\n",
        "    request = drive_service.files().get_media(fileId=key)\n",
        "\n",
        "    downloaded = io.BytesIO()\n",
        "    downloader = MediaIoBaseDownload(downloaded, request)\n",
        "    done = False\n",
        "    while done is False:\n",
        "      status, done = downloader.next_chunk()\n",
        "      if status:\n",
        "          print(\"Download %%%d%%.\" % int(status.progress() * 100))\n",
        "      print(\"Download Complete!\")\n",
        "    downloaded.seek(0)\n",
        "\n",
        "    with open(TEMP_PATH + file_name, 'wb') as f:\n",
        "        f.write(downloaded.read())"
      ],
      "execution_count": 3,
      "outputs": []
    },
    {
      "cell_type": "code",
      "metadata": {
        "colab": {
          "base_uri": "https://localhost:8080/"
        },
        "id": "LlG7YluWxeaJ",
        "outputId": "81a8a56e-b4ff-4c83-ce99-99f355b107c7"
      },
      "source": [
        "#https://drive.google.com/file/d/1ckwh5Tp9PRSPu5dhfG8IzK8VjADQRplA\n",
        "down_file_name = 'train_x_df.csv'\n",
        "gcp_download(down_file_name, '1ckwh5Tp9PRSPu5dhfG8IzK8VjADQRplA') "
      ],
      "execution_count": 4,
      "outputs": [
        {
          "output_type": "stream",
          "text": [
            "Download %6%.\n",
            "Download Complete!\n",
            "Download %12%.\n",
            "Download Complete!\n",
            "Download %18%.\n",
            "Download Complete!\n",
            "Download %24%.\n",
            "Download Complete!\n",
            "Download %30%.\n",
            "Download Complete!\n",
            "Download %36%.\n",
            "Download Complete!\n",
            "Download %42%.\n",
            "Download Complete!\n",
            "Download %48%.\n",
            "Download Complete!\n",
            "Download %54%.\n",
            "Download Complete!\n",
            "Download %60%.\n",
            "Download Complete!\n",
            "Download %66%.\n",
            "Download Complete!\n",
            "Download %73%.\n",
            "Download Complete!\n",
            "Download %79%.\n",
            "Download Complete!\n",
            "Download %85%.\n",
            "Download Complete!\n",
            "Download %91%.\n",
            "Download Complete!\n",
            "Download %97%.\n",
            "Download Complete!\n",
            "Download %100%.\n",
            "Download Complete!\n"
          ],
          "name": "stdout"
        }
      ]
    },
    {
      "cell_type": "code",
      "metadata": {
        "colab": {
          "base_uri": "https://localhost:8080/"
        },
        "id": "y8WDgjFs6H0i",
        "outputId": "375509a4-5958-490f-b360-4fc640c7e9ce"
      },
      "source": [
        "# https://drive.google.com/file/d/1PgnSkO8h2Bsn6B8PdsJi9D_TvD0NvbmU/view?usp=sharing\n",
        "down_file_name = 'train_y_df.csv'\n",
        "gcp_download(down_file_name, '1PgnSkO8h2Bsn6B8PdsJi9D_TvD0NvbmU') "
      ],
      "execution_count": 5,
      "outputs": [
        {
          "output_type": "stream",
          "text": [
            "Download %70%.\n",
            "Download Complete!\n",
            "Download %100%.\n",
            "Download Complete!\n"
          ],
          "name": "stdout"
        }
      ]
    },
    {
      "cell_type": "code",
      "metadata": {
        "colab": {
          "base_uri": "https://localhost:8080/"
        },
        "id": "p1Tr-ChP6Uq0",
        "outputId": "bccd56f1-19a5-41ef-fb56-71897210cc51"
      },
      "source": [
        "# https://drive.google.com/file/d/1SZ84Xtr-okI830fOAcKmA-5X09iqETVw\n",
        "down_file_name = 'test_x_df.csv'\n",
        "gcp_download(down_file_name, '1SZ84Xtr-okI830fOAcKmA-5X09iqETVw') "
      ],
      "execution_count": 6,
      "outputs": [
        {
          "output_type": "stream",
          "text": [
            "Download %85%.\n",
            "Download Complete!\n",
            "Download %100%.\n",
            "Download Complete!\n"
          ],
          "name": "stdout"
        }
      ]
    },
    {
      "cell_type": "code",
      "metadata": {
        "colab": {
          "base_uri": "https://localhost:8080/"
        },
        "id": "cxHaY4Ir6fQW",
        "outputId": "979548c8-c3f9-4e30-c3e2-4dd95fdc3e50"
      },
      "source": [
        "# https://drive.google.com/file/d/1SZ84Xtr-okI830fOAcKmA-5X09iqETVw\n",
        "down_file_name = 'sample_submission.csv'\n",
        "gcp_download(down_file_name, '1SZ84Xtr-okI830fOAcKmA-5X09iqETVw') "
      ],
      "execution_count": 7,
      "outputs": [
        {
          "output_type": "stream",
          "text": [
            "Download %85%.\n",
            "Download Complete!\n",
            "Download %100%.\n",
            "Download Complete!\n"
          ],
          "name": "stdout"
        }
      ]
    },
    {
      "cell_type": "code",
      "metadata": {
        "id": "ydlnXIp46-w2"
      },
      "source": [
        "!mv /tmp/sample_submission.csv /content/\n",
        "!mv /tmp/test_x_df.csv /content/\n",
        "!mv /tmp/train_y_df.csv /content/\n",
        "!mv /tmp/train_x_df.csv /content/"
      ],
      "execution_count": 8,
      "outputs": []
    },
    {
      "cell_type": "code",
      "metadata": {
        "id": "-x3x7ey40dNj",
        "colab": {
          "base_uri": "https://localhost:8080/"
        },
        "outputId": "ceaaceff-f939-44b0-989b-b1ba406cf3e9"
      },
      "source": [
        "# 2. data 불러오기\n",
        "import pandas as pd\n",
        "\n",
        "data_path = '/content'\n",
        "train_x_df = pd.read_csv(data_path  + \"/train_x_df.csv\")\n",
        "train_y_df = pd.read_csv(data_path  + \"/train_y_df.csv\")\n",
        "test_x_df = pd.read_csv(data_path  + \"/test_x_df.csv\")\n",
        "\n",
        "print(len(train_x_df))\n",
        "print(train_x_df.head())\n",
        "print()\n",
        "print(train_x_df.iloc[:, 2:].head())"
      ],
      "execution_count": 9,
      "outputs": [
        {
          "output_type": "stream",
          "text": [
            "10159560\n",
            "   sample_id  time  coin_index  ...      trades    tb_base_av    tb_quote_av\n",
            "0          0     0           7  ...  451.157288  7.326834e+05   37725.183594\n",
            "1          0     1           7  ...   39.231071  0.000000e+00       0.000000\n",
            "2          0     2           7  ...   58.846603  1.664967e+04     857.377808\n",
            "3          0     3           7  ...  431.541779  2.189147e+06  112811.046875\n",
            "4          0     4           7  ...  176.539810  0.000000e+00       0.000000\n",
            "\n",
            "[5 rows x 12 columns]\n",
            "\n",
            "   coin_index      open      high  ...      trades    tb_base_av    tb_quote_av\n",
            "0           7  1.010004  1.010004  ...  451.157288  7.326834e+05   37725.183594\n",
            "1           7  1.009808  1.009808  ...   39.231071  0.000000e+00       0.000000\n",
            "2           7  1.009808  1.010200  ...   58.846603  1.664967e+04     857.377808\n",
            "3           7  1.010200  1.011181  ...  431.541779  2.189147e+06  112811.046875\n",
            "4           7  1.010985  1.010985  ...  176.539810  0.000000e+00       0.000000\n",
            "\n",
            "[5 rows x 10 columns]\n"
          ],
          "name": "stdout"
        }
      ]
    },
    {
      "cell_type": "code",
      "metadata": {
        "colab": {
          "base_uri": "https://localhost:8080/"
        },
        "id": "DU7OVV-ZAf7D",
        "outputId": "a54a9e8c-52d4-452c-e452-ecaa0f7e8242"
      },
      "source": [
        "# coin별로 전체 샘플 건수 확인\n",
        "train_x_df_group = train_x_df.groupby(\"coin_index\").size()\n",
        "print(train_x_df_group.head(12))\n",
        "print()\n",
        "\n",
        "# coin별로 샘플 사이즈 확인(23시간으로 나눈값)\n",
        "train_x_df_group = train_x_df.groupby(\"coin_index\").size()/1380 # 23시간 동안의 data임으로 coin단위로 sample건수 환산\n",
        "print(train_x_df_group.head(12))\n",
        "\n",
        "print()\n",
        "train_y_df_group = train_y_df.groupby(\"coin_index\").size()/1380 # 23시간 동안의 data임으로 coin단위로 sample건수 환산\n",
        "print(train_y_df_group.head(12))\n",
        "\n",
        "print()\n",
        "test_x_df_group = test_x_df.groupby(\"coin_index\").size()/1380 # 23시간 동안의 data임으로 coin단위로 sample건수 환산\n",
        "print(test_x_df_group.head(12))\n",
        "\n",
        "### 코인별로 다르게 예측하고, sum해야함!"
      ],
      "execution_count": 10,
      "outputs": [
        {
          "output_type": "stream",
          "text": [
            "coin_index\n",
            "0    1251660\n",
            "1     527160\n",
            "2     139380\n",
            "3     178020\n",
            "4    1283400\n",
            "5     752100\n",
            "6    1469700\n",
            "7    1306860\n",
            "8    1625640\n",
            "9    1625640\n",
            "dtype: int64\n",
            "\n",
            "coin_index\n",
            "0     907.0\n",
            "1     382.0\n",
            "2     101.0\n",
            "3     129.0\n",
            "4     930.0\n",
            "5     545.0\n",
            "6    1065.0\n",
            "7     947.0\n",
            "8    1178.0\n",
            "9    1178.0\n",
            "dtype: float64\n",
            "\n",
            "coin_index\n",
            "0     78.869565\n",
            "1     33.217391\n",
            "2      8.782609\n",
            "3     11.217391\n",
            "4     80.869565\n",
            "5     47.391304\n",
            "6     92.608696\n",
            "7     82.347826\n",
            "8    102.434783\n",
            "9    102.434783\n",
            "dtype: float64\n",
            "\n",
            "coin_index\n",
            "0    53.0\n",
            "1    53.0\n",
            "2    53.0\n",
            "3    53.0\n",
            "4    53.0\n",
            "5    53.0\n",
            "6    53.0\n",
            "7    53.0\n",
            "8    53.0\n",
            "9    52.0\n",
            "dtype: float64\n"
          ],
          "name": "stdout"
        }
      ]
    },
    {
      "cell_type": "code",
      "metadata": {
        "colab": {
          "base_uri": "https://localhost:8080/"
        },
        "id": "_CF1R0TJOJ9R",
        "outputId": "2f7a9773-56fb-4f85-a9a2-35c9d11196d9"
      },
      "source": [
        "# 코인별 data-set 분리\n",
        "train_x_df_map = {}\n",
        "train_y_df_map = {}\n",
        "test_x_df_map = {}\n",
        "\n",
        "for idx in range(10):\n",
        "  print(\"idx:\", idx)\n",
        "  df_x = train_x_df.loc[train_x_df.loc[:, \"coin_index\"]==idx]\n",
        "  df_y = train_y_df.loc[train_y_df.loc[:, \"coin_index\"]==idx]\n",
        "  df_z = test_x_df.loc[test_x_df.loc[:, \"coin_index\"]==idx]\n",
        "  \n",
        "  train_x_df_map[idx] = df_x\n",
        "  train_y_df_map[idx] = df_y\n",
        "  test_x_df_map[idx] = df_z\n",
        "\n",
        "\n",
        "for idx in range(10):\n",
        "  print(\"idx:\", idx, \" \" , len(test_x_df_map[idx]))\n"
      ],
      "execution_count": 11,
      "outputs": [
        {
          "output_type": "stream",
          "text": [
            "idx: 0\n",
            "idx: 1\n",
            "idx: 2\n",
            "idx: 3\n",
            "idx: 4\n",
            "idx: 5\n",
            "idx: 6\n",
            "idx: 7\n",
            "idx: 8\n",
            "idx: 9\n",
            "idx: 0   73140\n",
            "idx: 1   73140\n",
            "idx: 2   73140\n",
            "idx: 3   73140\n",
            "idx: 4   73140\n",
            "idx: 5   73140\n",
            "idx: 6   73140\n",
            "idx: 7   73140\n",
            "idx: 8   73140\n",
            "idx: 9   71760\n"
          ],
          "name": "stdout"
        }
      ]
    },
    {
      "cell_type": "code",
      "metadata": {
        "colab": {
          "base_uri": "https://localhost:8080/"
        },
        "id": "jMmt8cRDA9nD",
        "outputId": "81f9eff1-06c1-4b51-fc37-f5bc1680547c"
      },
      "source": [
        "print(train_x_df_map[0].head())\n",
        "print()\n",
        "print(train_x_df_map[0].tail())"
      ],
      "execution_count": 12,
      "outputs": [
        {
          "output_type": "stream",
          "text": [
            "      sample_id  time  coin_index  ...     trades  tb_base_av  tb_quote_av\n",
            "1380          1     0           0  ...   1.573812    2.732137     9.601550\n",
            "1381          1     1           0  ...   2.203336    0.000000     0.000000\n",
            "1382          1     2           0  ...   6.295247   73.229462   257.038788\n",
            "1383          1     3           0  ...   8.813346   13.796035    48.367622\n",
            "1384          1     4           0  ...  15.423355   78.489143   274.863922\n",
            "\n",
            "[5 rows x 12 columns]\n",
            "\n",
            "          sample_id  time  coin_index  ...    trades  tb_base_av  tb_quote_av\n",
            "10158175       7360  1375           0  ...  5.582582  234.137482   586.536072\n",
            "10158176       7360  1376           0  ...  6.380094  102.308792   256.313110\n",
            "10158177       7360  1377           0  ...  7.576362  104.330490   261.472382\n",
            "10158178       7360  1378           0  ...  7.975117  384.504333   963.673950\n",
            "10158179       7360  1379           0  ...  4.386314   26.916021    67.506454\n",
            "\n",
            "[5 rows x 12 columns]\n"
          ],
          "name": "stdout"
        }
      ]
    },
    {
      "cell_type": "code",
      "metadata": {
        "id": "28Xyifmr9Gwr"
      },
      "source": [
        "import pandas as pd \n",
        "import pandas_datareader as pdr\n",
        "import talib \n",
        "import matplotlib.pyplot as plt\n",
        "import numpy as np\n",
        "import scipy.stats as stats\n",
        "import math\n",
        "from sklearn.preprocessing import MinMaxScaler\n",
        "\n",
        "import numpy as np\n",
        "import tensorflow as tf\n",
        "import random as python_random"
      ],
      "execution_count": 13,
      "outputs": []
    },
    {
      "cell_type": "code",
      "metadata": {
        "id": "8yZcJkp-0dQz",
        "colab": {
          "base_uri": "https://localhost:8080/"
        },
        "outputId": "c0292235-1625-44cb-e6eb-eb90119ed813"
      },
      "source": [
        "# 3. 기술지표 생성\n",
        "\n",
        "def get_tech_indicatior(df):\n",
        "    # data Feature\n",
        "    df['next_price'] = df['close'].shift(-1) # 다음날 수익률 예측: 다음날 시가와 종가간의 수정종가를 하루 미뤄줌\n",
        "    df['next_rtn'] = df['close'] / df['open'] -1\n",
        "    df['log_return'] = np.log(1 + df['close'].pct_change())\n",
        "    df['CCI'] = talib.CCI(df['high'], df['low'], df['close'], timeperiod=14)\n",
        "\n",
        "    #1.RA(이동평균션) : Standard deviation rolling average\n",
        "    # Moving Average\n",
        "    df['MA5'] = talib.SMA(df['close'],timeperiod=5)\n",
        "    df['MA10'] = talib.SMA(df['close'],timeperiod=10)\n",
        "    df['RASD5'] = talib.SMA(talib.STDDEV(df['close'], timeperiod=5, nbdev=1),timeperiod=5)\n",
        "    df['RASD10'] = talib.SMA(talib.STDDEV(df['close'], timeperiod=5, nbdev=1),timeperiod=10)\n",
        "\n",
        "    #2.MACD : Moving Average Convergence/Divergence\n",
        "    macd, macdsignal, macdhist = talib.MACD(df['close'], fastperiod=12, slowperiod=26, signalperiod=9)\n",
        "    df['MACD'] = macd \n",
        "\n",
        "    # Momentum(모멘텀) Indicators\n",
        "    #3.CCI : Commodity Channel Index\n",
        "    df['CCI'] = talib.CCI(df['high'], df['low'], df['close'], timeperiod=14)\n",
        "    # Volatility Indicators \n",
        "\n",
        "    #4.ATR(변동성) : Average True Range\n",
        "    df['ATR'] = talib.ATR(df['high'], df['low'], df['close'], timeperiod=14)\n",
        "\n",
        "    #5.BOLL(볼린저 밴드) : Bollinger Band\n",
        "    upper, middle, lower = talib.BBANDS(df['close'],timeperiod=20,nbdevup=2,nbdevdn=2,matype=0)\n",
        "    df['ub'] = upper\n",
        "    df['middle'] = middle\n",
        "    df['lb'] = lower\n",
        "\n",
        "    #7.MTM1 \n",
        "    df['MTM1'] = talib.MOM(df['close'], timeperiod=1)\n",
        "\n",
        "    #7.MTM3\n",
        "    df['MTM3'] = talib.MOM(df['close'], timeperiod=3)\n",
        "\n",
        "    #8.ROC : Rate of change : ((price/prevPrice)-1)*100\n",
        "    df['ROC'] = talib.ROC(df['close'], timeperiod=60)\n",
        "\n",
        "    #9.WPR : william percent range (Williams' %R)\n",
        "    df['WPR'] = talib.WILLR(df['high'], df['low'], df['close'], timeperiod=14)\n",
        "\n",
        "    return df\n",
        "\n",
        "for idx in train_x_df_map.keys():\n",
        "    train_x_df_map[idx] = get_tech_indicatior(train_x_df_map[idx])\n",
        "print(train_x_df_map[len(train_x_df_map.keys())-1].head())\n",
        "print()\n",
        "\n",
        "for idx in train_y_df_map.keys():\n",
        "    train_y_df_map[idx] = get_tech_indicatior(train_y_df_map[idx])\n",
        "print(train_y_df_map[len(train_y_df_map.keys())-1].head())\n",
        "print()\n",
        "\n",
        "for idx in test_x_df_map.keys():\n",
        "    test_x_df_map[idx] = get_tech_indicatior(test_x_df_map[idx])\n",
        "print(test_x_df_map[len(test_x_df_map.keys())-1].head())"
      ],
      "execution_count": 14,
      "outputs": [
        {
          "output_type": "stream",
          "text": [
            "/usr/local/lib/python3.7/dist-packages/ipykernel_launcher.py:5: SettingWithCopyWarning: \n",
            "A value is trying to be set on a copy of a slice from a DataFrame.\n",
            "Try using .loc[row_indexer,col_indexer] = value instead\n",
            "\n",
            "See the caveats in the documentation: https://pandas.pydata.org/pandas-docs/stable/user_guide/indexing.html#returning-a-view-versus-a-copy\n",
            "  \"\"\"\n",
            "/usr/local/lib/python3.7/dist-packages/ipykernel_launcher.py:6: SettingWithCopyWarning: \n",
            "A value is trying to be set on a copy of a slice from a DataFrame.\n",
            "Try using .loc[row_indexer,col_indexer] = value instead\n",
            "\n",
            "See the caveats in the documentation: https://pandas.pydata.org/pandas-docs/stable/user_guide/indexing.html#returning-a-view-versus-a-copy\n",
            "  \n",
            "/usr/local/lib/python3.7/dist-packages/ipykernel_launcher.py:7: SettingWithCopyWarning: \n",
            "A value is trying to be set on a copy of a slice from a DataFrame.\n",
            "Try using .loc[row_indexer,col_indexer] = value instead\n",
            "\n",
            "See the caveats in the documentation: https://pandas.pydata.org/pandas-docs/stable/user_guide/indexing.html#returning-a-view-versus-a-copy\n",
            "  import sys\n",
            "/usr/local/lib/python3.7/dist-packages/ipykernel_launcher.py:8: SettingWithCopyWarning: \n",
            "A value is trying to be set on a copy of a slice from a DataFrame.\n",
            "Try using .loc[row_indexer,col_indexer] = value instead\n",
            "\n",
            "See the caveats in the documentation: https://pandas.pydata.org/pandas-docs/stable/user_guide/indexing.html#returning-a-view-versus-a-copy\n",
            "  \n",
            "/usr/local/lib/python3.7/dist-packages/ipykernel_launcher.py:12: SettingWithCopyWarning: \n",
            "A value is trying to be set on a copy of a slice from a DataFrame.\n",
            "Try using .loc[row_indexer,col_indexer] = value instead\n",
            "\n",
            "See the caveats in the documentation: https://pandas.pydata.org/pandas-docs/stable/user_guide/indexing.html#returning-a-view-versus-a-copy\n",
            "  if sys.path[0] == '':\n",
            "/usr/local/lib/python3.7/dist-packages/ipykernel_launcher.py:13: SettingWithCopyWarning: \n",
            "A value is trying to be set on a copy of a slice from a DataFrame.\n",
            "Try using .loc[row_indexer,col_indexer] = value instead\n",
            "\n",
            "See the caveats in the documentation: https://pandas.pydata.org/pandas-docs/stable/user_guide/indexing.html#returning-a-view-versus-a-copy\n",
            "  del sys.path[0]\n",
            "/usr/local/lib/python3.7/dist-packages/ipykernel_launcher.py:14: SettingWithCopyWarning: \n",
            "A value is trying to be set on a copy of a slice from a DataFrame.\n",
            "Try using .loc[row_indexer,col_indexer] = value instead\n",
            "\n",
            "See the caveats in the documentation: https://pandas.pydata.org/pandas-docs/stable/user_guide/indexing.html#returning-a-view-versus-a-copy\n",
            "  \n",
            "/usr/local/lib/python3.7/dist-packages/ipykernel_launcher.py:15: SettingWithCopyWarning: \n",
            "A value is trying to be set on a copy of a slice from a DataFrame.\n",
            "Try using .loc[row_indexer,col_indexer] = value instead\n",
            "\n",
            "See the caveats in the documentation: https://pandas.pydata.org/pandas-docs/stable/user_guide/indexing.html#returning-a-view-versus-a-copy\n",
            "  from ipykernel import kernelapp as app\n",
            "/usr/local/lib/python3.7/dist-packages/ipykernel_launcher.py:19: SettingWithCopyWarning: \n",
            "A value is trying to be set on a copy of a slice from a DataFrame.\n",
            "Try using .loc[row_indexer,col_indexer] = value instead\n",
            "\n",
            "See the caveats in the documentation: https://pandas.pydata.org/pandas-docs/stable/user_guide/indexing.html#returning-a-view-versus-a-copy\n",
            "/usr/local/lib/python3.7/dist-packages/ipykernel_launcher.py:23: SettingWithCopyWarning: \n",
            "A value is trying to be set on a copy of a slice from a DataFrame.\n",
            "Try using .loc[row_indexer,col_indexer] = value instead\n",
            "\n",
            "See the caveats in the documentation: https://pandas.pydata.org/pandas-docs/stable/user_guide/indexing.html#returning-a-view-versus-a-copy\n",
            "/usr/local/lib/python3.7/dist-packages/ipykernel_launcher.py:27: SettingWithCopyWarning: \n",
            "A value is trying to be set on a copy of a slice from a DataFrame.\n",
            "Try using .loc[row_indexer,col_indexer] = value instead\n",
            "\n",
            "See the caveats in the documentation: https://pandas.pydata.org/pandas-docs/stable/user_guide/indexing.html#returning-a-view-versus-a-copy\n",
            "/usr/local/lib/python3.7/dist-packages/ipykernel_launcher.py:31: SettingWithCopyWarning: \n",
            "A value is trying to be set on a copy of a slice from a DataFrame.\n",
            "Try using .loc[row_indexer,col_indexer] = value instead\n",
            "\n",
            "See the caveats in the documentation: https://pandas.pydata.org/pandas-docs/stable/user_guide/indexing.html#returning-a-view-versus-a-copy\n",
            "/usr/local/lib/python3.7/dist-packages/ipykernel_launcher.py:32: SettingWithCopyWarning: \n",
            "A value is trying to be set on a copy of a slice from a DataFrame.\n",
            "Try using .loc[row_indexer,col_indexer] = value instead\n",
            "\n",
            "See the caveats in the documentation: https://pandas.pydata.org/pandas-docs/stable/user_guide/indexing.html#returning-a-view-versus-a-copy\n",
            "/usr/local/lib/python3.7/dist-packages/ipykernel_launcher.py:33: SettingWithCopyWarning: \n",
            "A value is trying to be set on a copy of a slice from a DataFrame.\n",
            "Try using .loc[row_indexer,col_indexer] = value instead\n",
            "\n",
            "See the caveats in the documentation: https://pandas.pydata.org/pandas-docs/stable/user_guide/indexing.html#returning-a-view-versus-a-copy\n",
            "/usr/local/lib/python3.7/dist-packages/ipykernel_launcher.py:36: SettingWithCopyWarning: \n",
            "A value is trying to be set on a copy of a slice from a DataFrame.\n",
            "Try using .loc[row_indexer,col_indexer] = value instead\n",
            "\n",
            "See the caveats in the documentation: https://pandas.pydata.org/pandas-docs/stable/user_guide/indexing.html#returning-a-view-versus-a-copy\n",
            "/usr/local/lib/python3.7/dist-packages/ipykernel_launcher.py:39: SettingWithCopyWarning: \n",
            "A value is trying to be set on a copy of a slice from a DataFrame.\n",
            "Try using .loc[row_indexer,col_indexer] = value instead\n",
            "\n",
            "See the caveats in the documentation: https://pandas.pydata.org/pandas-docs/stable/user_guide/indexing.html#returning-a-view-versus-a-copy\n",
            "/usr/local/lib/python3.7/dist-packages/ipykernel_launcher.py:42: SettingWithCopyWarning: \n",
            "A value is trying to be set on a copy of a slice from a DataFrame.\n",
            "Try using .loc[row_indexer,col_indexer] = value instead\n",
            "\n",
            "See the caveats in the documentation: https://pandas.pydata.org/pandas-docs/stable/user_guide/indexing.html#returning-a-view-versus-a-copy\n",
            "/usr/local/lib/python3.7/dist-packages/ipykernel_launcher.py:45: SettingWithCopyWarning: \n",
            "A value is trying to be set on a copy of a slice from a DataFrame.\n",
            "Try using .loc[row_indexer,col_indexer] = value instead\n",
            "\n",
            "See the caveats in the documentation: https://pandas.pydata.org/pandas-docs/stable/user_guide/indexing.html#returning-a-view-versus-a-copy\n"
          ],
          "name": "stderr"
        },
        {
          "output_type": "stream",
          "text": [
            "      sample_id  time  coin_index      open  ...      MTM1      MTM3  ROC  WPR\n",
            "5520          4     0           9  0.954524  ...       NaN       NaN  NaN  NaN\n",
            "5521          4     1           9  0.953924  ... -0.000038       NaN  NaN  NaN\n",
            "5522          4     2           9  0.953819  ... -0.000067       NaN  NaN  NaN\n",
            "5523          4     3           9  0.953705  ...  0.001049  0.000944  NaN  NaN\n",
            "5524          4     4           9  0.954756  ... -0.000763  0.000219  NaN  NaN\n",
            "\n",
            "[5 rows x 29 columns]\n",
            "\n"
          ],
          "name": "stdout"
        },
        {
          "output_type": "stream",
          "text": [
            "/usr/local/lib/python3.7/dist-packages/ipykernel_launcher.py:5: SettingWithCopyWarning: \n",
            "A value is trying to be set on a copy of a slice from a DataFrame.\n",
            "Try using .loc[row_indexer,col_indexer] = value instead\n",
            "\n",
            "See the caveats in the documentation: https://pandas.pydata.org/pandas-docs/stable/user_guide/indexing.html#returning-a-view-versus-a-copy\n",
            "  \"\"\"\n",
            "/usr/local/lib/python3.7/dist-packages/ipykernel_launcher.py:6: SettingWithCopyWarning: \n",
            "A value is trying to be set on a copy of a slice from a DataFrame.\n",
            "Try using .loc[row_indexer,col_indexer] = value instead\n",
            "\n",
            "See the caveats in the documentation: https://pandas.pydata.org/pandas-docs/stable/user_guide/indexing.html#returning-a-view-versus-a-copy\n",
            "  \n",
            "/usr/local/lib/python3.7/dist-packages/ipykernel_launcher.py:7: SettingWithCopyWarning: \n",
            "A value is trying to be set on a copy of a slice from a DataFrame.\n",
            "Try using .loc[row_indexer,col_indexer] = value instead\n",
            "\n",
            "See the caveats in the documentation: https://pandas.pydata.org/pandas-docs/stable/user_guide/indexing.html#returning-a-view-versus-a-copy\n",
            "  import sys\n",
            "/usr/local/lib/python3.7/dist-packages/ipykernel_launcher.py:8: SettingWithCopyWarning: \n",
            "A value is trying to be set on a copy of a slice from a DataFrame.\n",
            "Try using .loc[row_indexer,col_indexer] = value instead\n",
            "\n",
            "See the caveats in the documentation: https://pandas.pydata.org/pandas-docs/stable/user_guide/indexing.html#returning-a-view-versus-a-copy\n",
            "  \n",
            "/usr/local/lib/python3.7/dist-packages/ipykernel_launcher.py:12: SettingWithCopyWarning: \n",
            "A value is trying to be set on a copy of a slice from a DataFrame.\n",
            "Try using .loc[row_indexer,col_indexer] = value instead\n",
            "\n",
            "See the caveats in the documentation: https://pandas.pydata.org/pandas-docs/stable/user_guide/indexing.html#returning-a-view-versus-a-copy\n",
            "  if sys.path[0] == '':\n",
            "/usr/local/lib/python3.7/dist-packages/ipykernel_launcher.py:13: SettingWithCopyWarning: \n",
            "A value is trying to be set on a copy of a slice from a DataFrame.\n",
            "Try using .loc[row_indexer,col_indexer] = value instead\n",
            "\n",
            "See the caveats in the documentation: https://pandas.pydata.org/pandas-docs/stable/user_guide/indexing.html#returning-a-view-versus-a-copy\n",
            "  del sys.path[0]\n",
            "/usr/local/lib/python3.7/dist-packages/ipykernel_launcher.py:14: SettingWithCopyWarning: \n",
            "A value is trying to be set on a copy of a slice from a DataFrame.\n",
            "Try using .loc[row_indexer,col_indexer] = value instead\n",
            "\n",
            "See the caveats in the documentation: https://pandas.pydata.org/pandas-docs/stable/user_guide/indexing.html#returning-a-view-versus-a-copy\n",
            "  \n",
            "/usr/local/lib/python3.7/dist-packages/ipykernel_launcher.py:15: SettingWithCopyWarning: \n",
            "A value is trying to be set on a copy of a slice from a DataFrame.\n",
            "Try using .loc[row_indexer,col_indexer] = value instead\n",
            "\n",
            "See the caveats in the documentation: https://pandas.pydata.org/pandas-docs/stable/user_guide/indexing.html#returning-a-view-versus-a-copy\n",
            "  from ipykernel import kernelapp as app\n",
            "/usr/local/lib/python3.7/dist-packages/ipykernel_launcher.py:19: SettingWithCopyWarning: \n",
            "A value is trying to be set on a copy of a slice from a DataFrame.\n",
            "Try using .loc[row_indexer,col_indexer] = value instead\n",
            "\n",
            "See the caveats in the documentation: https://pandas.pydata.org/pandas-docs/stable/user_guide/indexing.html#returning-a-view-versus-a-copy\n",
            "/usr/local/lib/python3.7/dist-packages/ipykernel_launcher.py:23: SettingWithCopyWarning: \n",
            "A value is trying to be set on a copy of a slice from a DataFrame.\n",
            "Try using .loc[row_indexer,col_indexer] = value instead\n",
            "\n",
            "See the caveats in the documentation: https://pandas.pydata.org/pandas-docs/stable/user_guide/indexing.html#returning-a-view-versus-a-copy\n",
            "/usr/local/lib/python3.7/dist-packages/ipykernel_launcher.py:27: SettingWithCopyWarning: \n",
            "A value is trying to be set on a copy of a slice from a DataFrame.\n",
            "Try using .loc[row_indexer,col_indexer] = value instead\n",
            "\n",
            "See the caveats in the documentation: https://pandas.pydata.org/pandas-docs/stable/user_guide/indexing.html#returning-a-view-versus-a-copy\n",
            "/usr/local/lib/python3.7/dist-packages/ipykernel_launcher.py:31: SettingWithCopyWarning: \n",
            "A value is trying to be set on a copy of a slice from a DataFrame.\n",
            "Try using .loc[row_indexer,col_indexer] = value instead\n",
            "\n",
            "See the caveats in the documentation: https://pandas.pydata.org/pandas-docs/stable/user_guide/indexing.html#returning-a-view-versus-a-copy\n",
            "/usr/local/lib/python3.7/dist-packages/ipykernel_launcher.py:32: SettingWithCopyWarning: \n",
            "A value is trying to be set on a copy of a slice from a DataFrame.\n",
            "Try using .loc[row_indexer,col_indexer] = value instead\n",
            "\n",
            "See the caveats in the documentation: https://pandas.pydata.org/pandas-docs/stable/user_guide/indexing.html#returning-a-view-versus-a-copy\n",
            "/usr/local/lib/python3.7/dist-packages/ipykernel_launcher.py:33: SettingWithCopyWarning: \n",
            "A value is trying to be set on a copy of a slice from a DataFrame.\n",
            "Try using .loc[row_indexer,col_indexer] = value instead\n",
            "\n",
            "See the caveats in the documentation: https://pandas.pydata.org/pandas-docs/stable/user_guide/indexing.html#returning-a-view-versus-a-copy\n",
            "/usr/local/lib/python3.7/dist-packages/ipykernel_launcher.py:36: SettingWithCopyWarning: \n",
            "A value is trying to be set on a copy of a slice from a DataFrame.\n",
            "Try using .loc[row_indexer,col_indexer] = value instead\n",
            "\n",
            "See the caveats in the documentation: https://pandas.pydata.org/pandas-docs/stable/user_guide/indexing.html#returning-a-view-versus-a-copy\n",
            "/usr/local/lib/python3.7/dist-packages/ipykernel_launcher.py:39: SettingWithCopyWarning: \n",
            "A value is trying to be set on a copy of a slice from a DataFrame.\n",
            "Try using .loc[row_indexer,col_indexer] = value instead\n",
            "\n",
            "See the caveats in the documentation: https://pandas.pydata.org/pandas-docs/stable/user_guide/indexing.html#returning-a-view-versus-a-copy\n",
            "/usr/local/lib/python3.7/dist-packages/ipykernel_launcher.py:42: SettingWithCopyWarning: \n",
            "A value is trying to be set on a copy of a slice from a DataFrame.\n",
            "Try using .loc[row_indexer,col_indexer] = value instead\n",
            "\n",
            "See the caveats in the documentation: https://pandas.pydata.org/pandas-docs/stable/user_guide/indexing.html#returning-a-view-versus-a-copy\n",
            "/usr/local/lib/python3.7/dist-packages/ipykernel_launcher.py:45: SettingWithCopyWarning: \n",
            "A value is trying to be set on a copy of a slice from a DataFrame.\n",
            "Try using .loc[row_indexer,col_indexer] = value instead\n",
            "\n",
            "See the caveats in the documentation: https://pandas.pydata.org/pandas-docs/stable/user_guide/indexing.html#returning-a-view-versus-a-copy\n"
          ],
          "name": "stderr"
        },
        {
          "output_type": "stream",
          "text": [
            "     sample_id  time  coin_index      open  ...      MTM1      MTM3  ROC  WPR\n",
            "480          4     0           9  1.000305  ...       NaN       NaN  NaN  NaN\n",
            "481          4     1           9  1.000305  ...  0.000000       NaN  NaN  NaN\n",
            "482          4     2           9  1.000305  ...  0.000000       NaN  NaN  NaN\n",
            "483          4     3           9  1.000305  ...  0.000000  0.000000  NaN  NaN\n",
            "484          4     4           9  1.000304  ... -0.001653 -0.001653  NaN  NaN\n",
            "\n",
            "[5 rows x 29 columns]\n",
            "\n"
          ],
          "name": "stdout"
        },
        {
          "output_type": "stream",
          "text": [
            "/usr/local/lib/python3.7/dist-packages/ipykernel_launcher.py:5: SettingWithCopyWarning: \n",
            "A value is trying to be set on a copy of a slice from a DataFrame.\n",
            "Try using .loc[row_indexer,col_indexer] = value instead\n",
            "\n",
            "See the caveats in the documentation: https://pandas.pydata.org/pandas-docs/stable/user_guide/indexing.html#returning-a-view-versus-a-copy\n",
            "  \"\"\"\n",
            "/usr/local/lib/python3.7/dist-packages/ipykernel_launcher.py:6: SettingWithCopyWarning: \n",
            "A value is trying to be set on a copy of a slice from a DataFrame.\n",
            "Try using .loc[row_indexer,col_indexer] = value instead\n",
            "\n",
            "See the caveats in the documentation: https://pandas.pydata.org/pandas-docs/stable/user_guide/indexing.html#returning-a-view-versus-a-copy\n",
            "  \n",
            "/usr/local/lib/python3.7/dist-packages/ipykernel_launcher.py:7: SettingWithCopyWarning: \n",
            "A value is trying to be set on a copy of a slice from a DataFrame.\n",
            "Try using .loc[row_indexer,col_indexer] = value instead\n",
            "\n",
            "See the caveats in the documentation: https://pandas.pydata.org/pandas-docs/stable/user_guide/indexing.html#returning-a-view-versus-a-copy\n",
            "  import sys\n",
            "/usr/local/lib/python3.7/dist-packages/ipykernel_launcher.py:8: SettingWithCopyWarning: \n",
            "A value is trying to be set on a copy of a slice from a DataFrame.\n",
            "Try using .loc[row_indexer,col_indexer] = value instead\n",
            "\n",
            "See the caveats in the documentation: https://pandas.pydata.org/pandas-docs/stable/user_guide/indexing.html#returning-a-view-versus-a-copy\n",
            "  \n",
            "/usr/local/lib/python3.7/dist-packages/ipykernel_launcher.py:12: SettingWithCopyWarning: \n",
            "A value is trying to be set on a copy of a slice from a DataFrame.\n",
            "Try using .loc[row_indexer,col_indexer] = value instead\n",
            "\n",
            "See the caveats in the documentation: https://pandas.pydata.org/pandas-docs/stable/user_guide/indexing.html#returning-a-view-versus-a-copy\n",
            "  if sys.path[0] == '':\n",
            "/usr/local/lib/python3.7/dist-packages/ipykernel_launcher.py:13: SettingWithCopyWarning: \n",
            "A value is trying to be set on a copy of a slice from a DataFrame.\n",
            "Try using .loc[row_indexer,col_indexer] = value instead\n",
            "\n",
            "See the caveats in the documentation: https://pandas.pydata.org/pandas-docs/stable/user_guide/indexing.html#returning-a-view-versus-a-copy\n",
            "  del sys.path[0]\n",
            "/usr/local/lib/python3.7/dist-packages/ipykernel_launcher.py:14: SettingWithCopyWarning: \n",
            "A value is trying to be set on a copy of a slice from a DataFrame.\n",
            "Try using .loc[row_indexer,col_indexer] = value instead\n",
            "\n",
            "See the caveats in the documentation: https://pandas.pydata.org/pandas-docs/stable/user_guide/indexing.html#returning-a-view-versus-a-copy\n",
            "  \n",
            "/usr/local/lib/python3.7/dist-packages/ipykernel_launcher.py:15: SettingWithCopyWarning: \n",
            "A value is trying to be set on a copy of a slice from a DataFrame.\n",
            "Try using .loc[row_indexer,col_indexer] = value instead\n",
            "\n",
            "See the caveats in the documentation: https://pandas.pydata.org/pandas-docs/stable/user_guide/indexing.html#returning-a-view-versus-a-copy\n",
            "  from ipykernel import kernelapp as app\n",
            "/usr/local/lib/python3.7/dist-packages/ipykernel_launcher.py:19: SettingWithCopyWarning: \n",
            "A value is trying to be set on a copy of a slice from a DataFrame.\n",
            "Try using .loc[row_indexer,col_indexer] = value instead\n",
            "\n",
            "See the caveats in the documentation: https://pandas.pydata.org/pandas-docs/stable/user_guide/indexing.html#returning-a-view-versus-a-copy\n",
            "/usr/local/lib/python3.7/dist-packages/ipykernel_launcher.py:23: SettingWithCopyWarning: \n",
            "A value is trying to be set on a copy of a slice from a DataFrame.\n",
            "Try using .loc[row_indexer,col_indexer] = value instead\n",
            "\n",
            "See the caveats in the documentation: https://pandas.pydata.org/pandas-docs/stable/user_guide/indexing.html#returning-a-view-versus-a-copy\n",
            "/usr/local/lib/python3.7/dist-packages/ipykernel_launcher.py:27: SettingWithCopyWarning: \n",
            "A value is trying to be set on a copy of a slice from a DataFrame.\n",
            "Try using .loc[row_indexer,col_indexer] = value instead\n",
            "\n",
            "See the caveats in the documentation: https://pandas.pydata.org/pandas-docs/stable/user_guide/indexing.html#returning-a-view-versus-a-copy\n",
            "/usr/local/lib/python3.7/dist-packages/ipykernel_launcher.py:31: SettingWithCopyWarning: \n",
            "A value is trying to be set on a copy of a slice from a DataFrame.\n",
            "Try using .loc[row_indexer,col_indexer] = value instead\n",
            "\n",
            "See the caveats in the documentation: https://pandas.pydata.org/pandas-docs/stable/user_guide/indexing.html#returning-a-view-versus-a-copy\n",
            "/usr/local/lib/python3.7/dist-packages/ipykernel_launcher.py:32: SettingWithCopyWarning: \n",
            "A value is trying to be set on a copy of a slice from a DataFrame.\n",
            "Try using .loc[row_indexer,col_indexer] = value instead\n",
            "\n",
            "See the caveats in the documentation: https://pandas.pydata.org/pandas-docs/stable/user_guide/indexing.html#returning-a-view-versus-a-copy\n",
            "/usr/local/lib/python3.7/dist-packages/ipykernel_launcher.py:33: SettingWithCopyWarning: \n",
            "A value is trying to be set on a copy of a slice from a DataFrame.\n",
            "Try using .loc[row_indexer,col_indexer] = value instead\n",
            "\n",
            "See the caveats in the documentation: https://pandas.pydata.org/pandas-docs/stable/user_guide/indexing.html#returning-a-view-versus-a-copy\n",
            "/usr/local/lib/python3.7/dist-packages/ipykernel_launcher.py:36: SettingWithCopyWarning: \n",
            "A value is trying to be set on a copy of a slice from a DataFrame.\n",
            "Try using .loc[row_indexer,col_indexer] = value instead\n",
            "\n",
            "See the caveats in the documentation: https://pandas.pydata.org/pandas-docs/stable/user_guide/indexing.html#returning-a-view-versus-a-copy\n",
            "/usr/local/lib/python3.7/dist-packages/ipykernel_launcher.py:39: SettingWithCopyWarning: \n",
            "A value is trying to be set on a copy of a slice from a DataFrame.\n",
            "Try using .loc[row_indexer,col_indexer] = value instead\n",
            "\n",
            "See the caveats in the documentation: https://pandas.pydata.org/pandas-docs/stable/user_guide/indexing.html#returning-a-view-versus-a-copy\n",
            "/usr/local/lib/python3.7/dist-packages/ipykernel_launcher.py:42: SettingWithCopyWarning: \n",
            "A value is trying to be set on a copy of a slice from a DataFrame.\n",
            "Try using .loc[row_indexer,col_indexer] = value instead\n",
            "\n",
            "See the caveats in the documentation: https://pandas.pydata.org/pandas-docs/stable/user_guide/indexing.html#returning-a-view-versus-a-copy\n",
            "/usr/local/lib/python3.7/dist-packages/ipykernel_launcher.py:45: SettingWithCopyWarning: \n",
            "A value is trying to be set on a copy of a slice from a DataFrame.\n",
            "Try using .loc[row_indexer,col_indexer] = value instead\n",
            "\n",
            "See the caveats in the documentation: https://pandas.pydata.org/pandas-docs/stable/user_guide/indexing.html#returning-a-view-versus-a-copy\n"
          ],
          "name": "stderr"
        },
        {
          "output_type": "stream",
          "text": [
            "       sample_id  time  coin_index      open  ...      MTM1      MTM3  ROC  WPR\n",
            "41400         30     0           9  0.981082  ...       NaN       NaN  NaN  NaN\n",
            "41401         30     1           9  0.979044  ...  0.000267       NaN  NaN  NaN\n",
            "41402         30     2           9  0.979311  ...  0.000050       NaN  NaN  NaN\n",
            "41403         30     3           9  0.979361  ... -0.001414 -0.001097  NaN  NaN\n",
            "41404         30     4           9  0.977947  ...  0.002561  0.001197  NaN  NaN\n",
            "\n",
            "[5 rows x 29 columns]\n"
          ],
          "name": "stdout"
        }
      ]
    },
    {
      "cell_type": "code",
      "metadata": {
        "id": "Casld-eq_PBn"
      },
      "source": [
        "feature1_list = ['open','high','low','close','volume','log_return']\n",
        "feature2_list = ['RASD5','RASD10','ub','lb','CCI','ATR','MACD','MA5','MA10','MTM1','MTM3','ROC','WPR']\n",
        "#feature3_list = ['S&P500', 'SOX', 'VIX']\n",
        "feature4_list = ['next_rtn']\n",
        "all_features = feature1_list + feature2_list + feature4_list"
      ],
      "execution_count": 15,
      "outputs": []
    },
    {
      "cell_type": "code",
      "metadata": {
        "id": "MlUrVH3B_PII",
        "colab": {
          "base_uri": "https://localhost:8080/"
        },
        "outputId": "2968495e-446f-4052-bb09-d02b82862835"
      },
      "source": [
        "# data 정규화\n",
        "def min_max_normal(tmp_df):\n",
        "    eng_list = []\n",
        "    sample_df = tmp_df.copy()\n",
        "    for x in all_features:\n",
        "        if x in feature4_list :\n",
        "            continue\n",
        "        series = sample_df[x].copy()\n",
        "        values = series.values\n",
        "        values = values.reshape((len(values), 1))\n",
        "        # train the normalization\n",
        "        scaler = MinMaxScaler(feature_range=(0, 1)) #최소,최대 정규화\n",
        "        scaler = scaler.fit(values)\n",
        "#         print('columns : %s , Min: %f, Max: %f' % (x, scaler.data_min_, scaler.data_max_))\n",
        "        # normalize the dataset and print\n",
        "        normalized = scaler.transform(values)\n",
        "        new_feature = '{}_normal'.format(x)\n",
        "        eng_list.append(new_feature)\n",
        "        sample_df[new_feature] = normalized\n",
        "    return sample_df, eng_list\n",
        "\n",
        "for idx in train_x_df_map.keys():\n",
        "    train_x_df_map[idx], eng_list = min_max_normal(train_x_df_map[idx])\n",
        "print(train_x_df_map[len(train_x_df_map.keys())-1].head())\n",
        "print(eng_list)\n",
        "print()\n",
        "\n",
        "for idx in train_y_df_map.keys():\n",
        "    train_y_df_map[idx], eng_list = min_max_normal(train_y_df_map[idx])\n",
        "print(train_y_df_map[len(train_y_df_map.keys())-1].head())\n",
        "print(eng_list)\n",
        "print()\n",
        "\n",
        "for idx in test_x_df_map.keys():\n",
        "    test_x_df_map[idx], eng_list = min_max_normal(test_x_df_map[idx])\n",
        "print(test_x_df_map[len(test_x_df_map.keys())-1].head())\n",
        "print(eng_list)"
      ],
      "execution_count": 16,
      "outputs": [
        {
          "output_type": "stream",
          "text": [
            "      sample_id  time  coin_index  ...  MTM3_normal  ROC_normal  WPR_normal\n",
            "5520          4     0           9  ...          NaN         NaN         NaN\n",
            "5521          4     1           9  ...          NaN         NaN         NaN\n",
            "5522          4     2           9  ...          NaN         NaN         NaN\n",
            "5523          4     3           9  ...     0.311748         NaN         NaN\n",
            "5524          4     4           9  ...     0.310748         NaN         NaN\n",
            "\n",
            "[5 rows x 48 columns]\n",
            "['open_normal', 'high_normal', 'low_normal', 'close_normal', 'volume_normal', 'log_return_normal', 'RASD5_normal', 'RASD10_normal', 'ub_normal', 'lb_normal', 'CCI_normal', 'ATR_normal', 'MACD_normal', 'MA5_normal', 'MA10_normal', 'MTM1_normal', 'MTM3_normal', 'ROC_normal', 'WPR_normal']\n",
            "\n",
            "     sample_id  time  coin_index  ...  MTM3_normal  ROC_normal  WPR_normal\n",
            "480          4     0           9  ...          NaN         NaN         NaN\n",
            "481          4     1           9  ...          NaN         NaN         NaN\n",
            "482          4     2           9  ...          NaN         NaN         NaN\n",
            "483          4     3           9  ...     0.513928         NaN         NaN\n",
            "484          4     4           9  ...     0.508861         NaN         NaN\n",
            "\n",
            "[5 rows x 48 columns]\n",
            "['open_normal', 'high_normal', 'low_normal', 'close_normal', 'volume_normal', 'log_return_normal', 'RASD5_normal', 'RASD10_normal', 'ub_normal', 'lb_normal', 'CCI_normal', 'ATR_normal', 'MACD_normal', 'MA5_normal', 'MA10_normal', 'MTM1_normal', 'MTM3_normal', 'ROC_normal', 'WPR_normal']\n",
            "\n",
            "       sample_id  time  coin_index  ...  MTM3_normal  ROC_normal  WPR_normal\n",
            "41400         30     0           9  ...          NaN         NaN         NaN\n",
            "41401         30     1           9  ...          NaN         NaN         NaN\n",
            "41402         30     2           9  ...          NaN         NaN         NaN\n",
            "41403         30     3           9  ...     0.476037         NaN         NaN\n",
            "41404         30     4           9  ...     0.482446         NaN         NaN\n",
            "\n",
            "[5 rows x 48 columns]\n",
            "['open_normal', 'high_normal', 'low_normal', 'close_normal', 'volume_normal', 'log_return_normal', 'RASD5_normal', 'RASD10_normal', 'ub_normal', 'lb_normal', 'CCI_normal', 'ATR_normal', 'MACD_normal', 'MA5_normal', 'MA10_normal', 'MTM1_normal', 'MTM3_normal', 'ROC_normal', 'WPR_normal']\n"
          ],
          "name": "stdout"
        }
      ]
    },
    {
      "cell_type": "code",
      "metadata": {
        "colab": {
          "base_uri": "https://localhost:8080/"
        },
        "id": "-mGKI2WNQ5-z",
        "outputId": "7e5b05a2-7fe2-43c2-b622-4c1cbd08544f"
      },
      "source": [
        "def df2d_to_array3d(df_2d):\n",
        "    # 입력 받은 2차원 데이터 프레임을 3차원 numpy array로 변경하는 함수\n",
        "    feature_size = df_2d.iloc[:,2:].shape[1]\n",
        "    time_size = len(df_2d.time.value_counts())\n",
        "    sample_size = len(df_2d.sample_id.value_counts())\n",
        "    array_3d = df_2d.iloc[:,2:].values.reshape([sample_size, time_size, feature_size])\n",
        "    return array_3d\n",
        "\n",
        "train_x_df_map_arr = {}\n",
        "train_y_df_map_arr = {}\n",
        "test_x_df_map_arr = {}\n",
        "\n",
        "# 코인별로 나눠서 3차원 data 만들기\n",
        "for idx in train_x_df_map.keys():\n",
        "    train_x_df_map_arr[idx] = df2d_to_array3d(train_x_df_map[idx])\n",
        "for idx in train_y_df_map.keys():\n",
        "    train_y_df_map_arr[idx] = df2d_to_array3d(train_y_df_map[idx])\n",
        "for idx in test_x_df_map.keys():\n",
        "    test_x_df_map_arr[idx] = df2d_to_array3d(test_x_df_map[idx])\n",
        "\n",
        "# train_x_array = df2d_to_array3d(train_sample_df)\n",
        "# train_y_array = df2d_to_array3d(val_sample_df)\n",
        "# test_x_array = df2d_to_array3d(test_x_df)\n",
        "\n",
        "print(f'''\n",
        "train_x_array {train_x_df_map_arr[0].shape}\n",
        "train_y_array {train_y_df_map_arr[0].shape}\n",
        "test_x_array {test_x_df_map_arr[0].shape}\n",
        "''')"
      ],
      "execution_count": 17,
      "outputs": [
        {
          "output_type": "stream",
          "text": [
            "\n",
            "train_x_array (907, 1380, 46)\n",
            "train_y_array (907, 120, 46)\n",
            "test_x_array (53, 1380, 46)\n",
            "\n"
          ],
          "name": "stdout"
        }
      ]
    },
    {
      "cell_type": "code",
      "metadata": {
        "colab": {
          "base_uri": "https://localhost:8080/"
        },
        "id": "pFusYQYMUgWx",
        "outputId": "1263dcb1-c4cd-4bf8-afa6-aff95c92b1d7"
      },
      "source": [
        "print(train_x_df_map_arr[9][idx, :, 1].shape)\n",
        "print(train_x_df_map_arr[9][idx, :, 1])"
      ],
      "execution_count": 18,
      "outputs": [
        {
          "output_type": "stream",
          "text": [
            "(1380,)\n",
            "[0.99300665 0.99331641 0.9933539  ... 1.00049579 1.00076318 1.        ]\n"
          ],
          "name": "stdout"
        }
      ]
    },
    {
      "cell_type": "code",
      "metadata": {
        "colab": {
          "base_uri": "https://localhost:8080/"
        },
        "id": "fF_beqzsvb7O",
        "outputId": "ca57ef88-7848-4d73-c243-f72fa63b21d9"
      },
      "source": [
        "print(train_x_df_map_arr[0][100,:, 1])\n",
        "print(train_x_df_map[0].head())"
      ],
      "execution_count": 19,
      "outputs": [
        {
          "output_type": "stream",
          "text": [
            "[1.0223974  1.02519286 1.02502441 ... 0.99787813 0.99872017 1.        ]\n",
            "      sample_id  time  coin_index  ...  MTM3_normal  ROC_normal  WPR_normal\n",
            "1380          1     0           0  ...          NaN         NaN         NaN\n",
            "1381          1     1           0  ...          NaN         NaN         NaN\n",
            "1382          1     2           0  ...          NaN         NaN         NaN\n",
            "1383          1     3           0  ...     0.246326         NaN         NaN\n",
            "1384          1     4           0  ...     0.246400         NaN         NaN\n",
            "\n",
            "[5 rows x 48 columns]\n"
          ],
          "name": "stdout"
        }
      ]
    },
    {
      "cell_type": "code",
      "metadata": {
        "colab": {
          "base_uri": "https://localhost:8080/",
          "height": 265
        },
        "id": "Y9NoPCjLCgkt",
        "outputId": "b74d9cc0-492b-492a-d7a6-d2c0288ca981"
      },
      "source": [
        "def plot_series(x_series, y_series):\n",
        "    #입력 series와 출력 series를 연속적으로 연결하여 시각적으로 보여주는 코드 입니다.\n",
        "    plt.plot(x_series, label = 'input_series')\n",
        "    plt.plot(np.arange(len(x_series), len(x_series)+len(y_series)),\n",
        "             y_series, label = 'output_series')\n",
        "    plt.axhline(1, c = 'red')\n",
        "    plt.legend()\n",
        "\n",
        "# sample_id 1012에 해당하는 sample의 분단위 시가 변동 정보 시각화\n",
        "idx = 100\n",
        "#plot_series(train_x_array[idx,:,1], train_y_array[idx,:,1])\n",
        "plot_series(train_x_df_map_arr[0][idx,:, 1], train_y_df_map_arr[0][idx,:, 1])\n",
        "plt.show()"
      ],
      "execution_count": 20,
      "outputs": [
        {
          "output_type": "display_data",
          "data": {
            "image/png": "[encoded data removed]",
            "text/plain": [
              "<Figure size 432x288 with 1 Axes>"
            ]
          },
          "metadata": {
            "tags": [],
            "needs_background": "light"
          }
        }
      ]
    },
    {
      "cell_type": "code",
      "metadata": {
        "colab": {
          "base_uri": "https://localhost:8080/"
        },
        "id": "DuYTEjXkEav-",
        "outputId": "6b0381e5-7dbb-4077-f392-572d8fd7f19b"
      },
      "source": [
        "import numpy as np\n",
        "import pandas as pd\n",
        "import gc\n",
        "import math\n",
        "import os.path\n",
        "import time\n",
        "import matplotlib.pyplot as plt\n",
        "from datetime import timedelta, datetime\n",
        "from dateutil import parser\n",
        "from tqdm import tqdm\n",
        "import copy\n",
        "from statsmodels.tsa.arima_model import ARIMA\n",
        "import warnings\n",
        "warnings.filterwarnings(\"ignore\")"
      ],
      "execution_count": 21,
      "outputs": [
        {
          "output_type": "stream",
          "text": [
            "/usr/local/lib/python3.7/dist-packages/statsmodels/tools/_testing.py:19: FutureWarning: pandas.util.testing is deprecated. Use the functions in the public API at pandas.testing instead.\n",
            "  import pandas.util.testing as tm\n"
          ],
          "name": "stderr"
        }
      ]
    },
    {
      "cell_type": "code",
      "metadata": {
        "colab": {
          "base_uri": "https://localhost:8080/",
          "height": 779
        },
        "id": "iROaTCCuw58S",
        "outputId": "1ddec7da-b830-40ee-e3a4-3bbb18a725ca"
      },
      "source": [
        "# Arima (p,q,d) 최적화\n",
        "# 참고: https://byeongkijeong.github.io/ARIMA-with-Python/\n",
        "\n",
        "import matplotlib.pyplot as plt\n",
        "from statsmodels.graphics.tsaplots import plot_acf, plot_pacf\n",
        "\n",
        "idx = 100\n",
        "#x_series = train_x_df_map_arr[0][idx,:,1] # 1: Open 가격\n",
        "#x_series = train_x_df_map[0].loc[:, 'open'] # 천만row;;\n",
        "x_series = train_x_df_map[0].loc[0:100000, 'open']\n",
        "print(x_series)\n",
        "print()\n",
        "\n",
        "plot_acf(x_series)\n",
        "plot_pacf(x_series)\n",
        "plt.show()\n",
        "\n",
        "## ACF는 변동이 거의 없고, 1에서 가장크다.\n",
        "## PACF는 1의 Time lag에서 약 0.99를 보이고 이후에 급격히 감소한다. \n",
        "## 따라서 p=0, q=1이 적당하다고 추측할 수 있다."
      ],
      "execution_count": 22,
      "outputs": [
        {
          "output_type": "stream",
          "text": [
            "1380     1.106169\n",
            "1381     1.104879\n",
            "1382     1.104407\n",
            "1383     1.103683\n",
            "1384     1.102675\n",
            "           ...   \n",
            "86935    1.000297\n",
            "86936    0.998105\n",
            "86937    0.997808\n",
            "86938    0.998774\n",
            "86939    1.000000\n",
            "Name: open, Length: 13800, dtype: float64\n",
            "\n"
          ],
          "name": "stdout"
        },
        {
          "output_type": "display_data",
          "data": {
            "image/png": "[encoded data removed]",
            "text/plain": [
              "<Figure size 432x288 with 1 Axes>"
            ]
          },
          "metadata": {
            "tags": [],
            "needs_background": "light"
          }
        },
        {
          "output_type": "display_data",
          "data": {
            "image/png": "[encoded data removed]",
            "text/plain": [
              "<Figure size 432x288 with 1 Axes>"
            ]
          },
          "metadata": {
            "tags": [],
            "needs_background": "light"
          }
        }
      ]
    },
    {
      "cell_type": "code",
      "metadata": {
        "colab": {
          "base_uri": "https://localhost:8080/"
        },
        "id": "uw_K7HSmyoju",
        "outputId": "d45a1a41-4231-4c40-fe63-8a7a0f7d29eb"
      },
      "source": [
        "print(train_x_df_map[0].head())\n",
        "print(train_x_df_map[0].loc[:, 'open'])"
      ],
      "execution_count": 23,
      "outputs": [
        {
          "output_type": "stream",
          "text": [
            "      sample_id  time  coin_index  ...  MTM3_normal  ROC_normal  WPR_normal\n",
            "1380          1     0           0  ...          NaN         NaN         NaN\n",
            "1381          1     1           0  ...          NaN         NaN         NaN\n",
            "1382          1     2           0  ...          NaN         NaN         NaN\n",
            "1383          1     3           0  ...     0.246326         NaN         NaN\n",
            "1384          1     4           0  ...     0.246400         NaN         NaN\n",
            "\n",
            "[5 rows x 48 columns]\n",
            "1380        1.106169\n",
            "1381        1.104879\n",
            "1382        1.104407\n",
            "1383        1.103683\n",
            "1384        1.102675\n",
            "              ...   \n",
            "10158175    0.998684\n",
            "10158176    0.998923\n",
            "10158177    0.999362\n",
            "10158178    0.998923\n",
            "10158179    1.000000\n",
            "Name: open, Length: 1251660, dtype: float64\n"
          ],
          "name": "stdout"
        }
      ]
    },
    {
      "cell_type": "code",
      "metadata": {
        "colab": {
          "base_uri": "https://localhost:8080/",
          "height": 793
        },
        "id": "pfc8itC-xzxV",
        "outputId": "358e02ad-d1e0-426c-ca3f-19b0a33a6490"
      },
      "source": [
        "## 적절한 차분 차수의 계산을 위해 우선 1차 차분을 하고, ACF 및 PACF를 다시 계산한다.\n",
        "\n",
        "diff_1= x_series.diff(periods=1).iloc[1:]\n",
        "diff_1.plot()\n",
        "plot_acf(diff_1)\n",
        "plot_pacf(diff_1)\n",
        "plt.show()"
      ],
      "execution_count": 24,
      "outputs": [
        {
          "output_type": "display_data",
          "data": {
            "image/png": "[encoded data removed]",
            "text/plain": [
              "<Figure size 432x288 with 1 Axes>"
            ]
          },
          "metadata": {
            "tags": [],
            "needs_background": "light"
          }
        },
        {
          "output_type": "display_data",
          "data": {
            "image/png": "[encoded data removed]",
            "text/plain": [
              "<Figure size 432x288 with 1 Axes>"
            ]
          },
          "metadata": {
            "tags": [],
            "needs_background": "light"
          }
        },
        {
          "output_type": "display_data",
          "data": {
            "image/png": "[encoded data removed]",
            "text/plain": [
              "<Figure size 432x288 with 1 Axes>"
            ]
          },
          "metadata": {
            "tags": [],
            "needs_background": "light"
          }
        }
      ]
    },
    {
      "cell_type": "code",
      "metadata": {
        "colab": {
          "base_uri": "https://localhost:8080/",
          "height": 1000
        },
        "id": "qnRb61ST1pE7",
        "outputId": "b0d146a6-fdeb-47ab-e77e-2ac42967e334"
      },
      "source": [
        "# ARIMA(0,1,1)을 이용하여 모형의 Parameter를 추정하고, 결과를 확인한다.\n",
        "x_series = train_x_df_map_arr[0][idx,:,1] # 1: Open 가격\n",
        "model = ARIMA(x_series, order=(0,1,1)) \n",
        "fit  = model.fit()\n",
        "print(fit.summary())\n",
        "print()\n",
        "\n",
        "# P > z’ 값이 일반적으로 학습의 적정성을 위해 확인되는 t-test값이다. \n",
        "# 즉, p value 0.05수준에서 보면 MA(1)의 계수는 유효하고, 모형의 Constant는 유효하지 않다.\n",
        "# 따라서, 위 코드에서 model.fit()의 파라미터중 trend=’c’가 아니라 ‘nc’로 설정해주어야 하는게 옳다.\n",
        "model = ARIMA(x_series, order=(0,1,1)) \n",
        "fit  = model.fit(trend='nc',full_output=True, disp=1)\n",
        "print(fit.summary())\n",
        "print()\n",
        "\n",
        "# constraint가 없는 모형으로 fitting하고 나니, MA(1)의 t-test값이 0.734로 더 좋아졌다.\n",
        "fit.plot_predict()"
      ],
      "execution_count": 48,
      "outputs": [
        {
          "output_type": "stream",
          "text": [
            "                             ARIMA Model Results                              \n",
            "==============================================================================\n",
            "Dep. Variable:                    D.y   No. Observations:                 1379\n",
            "Model:                 ARIMA(0, 1, 1)   Log Likelihood                8657.441\n",
            "Method:                       css-mle   S.D. of innovations              0.000\n",
            "Date:                Sat, 27 Mar 2021   AIC                         -17308.883\n",
            "Time:                        13:25:46   BIC                         -17293.195\n",
            "Sample:                             1   HQIC                        -17303.014\n",
            "                                                                              \n",
            "==============================================================================\n",
            "                 coef    std err          z      P>|z|      [0.025      0.975]\n",
            "------------------------------------------------------------------------------\n",
            "const       3.086e-06   1.21e-05      0.255      0.799   -2.07e-05    2.68e-05\n",
            "ma.L1.D.y     -0.0091      0.027     -0.332      0.740      -0.063       0.044\n",
            "                                    Roots                                    \n",
            "=============================================================================\n",
            "                  Real          Imaginary           Modulus         Frequency\n",
            "-----------------------------------------------------------------------------\n",
            "MA.1          110.3038           +0.0000j          110.3038            0.0000\n",
            "-----------------------------------------------------------------------------\n",
            "\n",
            "                             ARIMA Model Results                              \n",
            "==============================================================================\n",
            "Dep. Variable:                    D.y   No. Observations:                 1379\n",
            "Model:                 ARIMA(0, 1, 1)   Log Likelihood                8657.409\n",
            "Method:                       css-mle   S.D. of innovations              0.000\n",
            "Date:                Sat, 27 Mar 2021   AIC                         -17310.818\n",
            "Time:                        13:25:46   BIC                         -17300.360\n",
            "Sample:                             1   HQIC                        -17306.905\n",
            "                                                                              \n",
            "==============================================================================\n",
            "                 coef    std err          z      P>|z|      [0.025      0.975]\n",
            "------------------------------------------------------------------------------\n",
            "ma.L1.D.y     -0.0093      0.027     -0.340      0.734      -0.063       0.044\n",
            "                                    Roots                                    \n",
            "=============================================================================\n",
            "                  Real          Imaginary           Modulus         Frequency\n",
            "-----------------------------------------------------------------------------\n",
            "MA.1          107.8923           +0.0000j          107.8923            0.0000\n",
            "-----------------------------------------------------------------------------\n",
            "\n"
          ],
          "name": "stdout"
        },
        {
          "output_type": "execute_result",
          "data": {
            "image/png": "[encoded data removed]",
            "text/plain": [
              "<Figure size 432x288 with 1 Axes>"
            ]
          },
          "metadata": {
            "tags": []
          },
          "execution_count": 48
        },
        {
          "output_type": "display_data",
          "data": {
            "image/png": "[encoded data removed]",
            "text/plain": [
              "<Figure size 432x288 with 1 Axes>"
            ]
          },
          "metadata": {
            "tags": [],
            "needs_background": "light"
          }
        }
      ]
    },
    {
      "cell_type": "code",
      "metadata": {
        "id": "EvmiLj573vyc",
        "colab": {
          "base_uri": "https://localhost:8080/",
          "height": 751
        },
        "outputId": "41ef4c6c-d576-44b3-801f-69c533c1995d"
      },
      "source": [
        "# train 샘플 훈련하기\n",
        "\n",
        "idx = 100\n",
        "# train data 중 sample_id 1121에 해당하는 x_series로 arima 모델을 학습한 후\n",
        "# y_sereis를 추론\n",
        "x_series = train_x_df_map_arr[0][idx,:,1]\n",
        "y_series = train_x_df_map_arr[0][idx,:,1]\n",
        "\n",
        "# ARIMA의 (p,d,q) 값은 최적화 되지않은 값 입니다.\n",
        "model = ARIMA(x_series, order=(3,0,1)) \n",
        "#model = ARIMA(x_series, order=(5,1,1)) \n",
        "fit  = model.fit()\n",
        "#fit  = model.fit(trend='nc',full_output=True, disp=1)\n",
        "print(type(fit))\n",
        "#preds = fit.predict(1,120, typ='levels')\n",
        "preds = fit.predict(1,120)\n",
        "\n",
        "plot_series(x_series, y_series)\n",
        "plt.plot(np.arange(1380, 1380+120), preds, label = 'prediction')\n",
        "plt.legend()\n",
        "plt.show()\n",
        "\n",
        "print(fit.summary())"
      ],
      "execution_count": 70,
      "outputs": [
        {
          "output_type": "stream",
          "text": [
            "<class 'statsmodels.tsa.arima_model.ARMAResultsWrapper'>\n"
          ],
          "name": "stdout"
        },
        {
          "output_type": "display_data",
          "data": {
            "image/png": "[encoded data removed]",
            "text/plain": [
              "<Figure size 432x288 with 1 Axes>"
            ]
          },
          "metadata": {
            "tags": [],
            "needs_background": "light"
          }
        },
        {
          "output_type": "stream",
          "text": [
            "                              ARMA Model Results                              \n",
            "==============================================================================\n",
            "Dep. Variable:                      y   No. Observations:                 1380\n",
            "Model:                     ARMA(3, 1)   Log Likelihood                7712.884\n",
            "Method:                       css-mle   S.D. of innovations              0.001\n",
            "Date:                Sat, 27 Mar 2021   AIC                         -15413.768\n",
            "Time:                        13:37:25   BIC                         -15382.389\n",
            "Sample:                             0   HQIC                        -15402.029\n",
            "                                                                              \n",
            "==============================================================================\n",
            "                 coef    std err          z      P>|z|      [0.025      0.975]\n",
            "------------------------------------------------------------------------------\n",
            "const          1.0153      0.004    288.397      0.000       1.008       1.022\n",
            "ar.L1.y        0.1542      0.137      1.125      0.261      -0.114       0.423\n",
            "ar.L2.y        0.7987      0.140      5.687      0.000       0.523       1.074\n",
            "ar.L3.y        0.0358      0.028      1.290      0.197      -0.019       0.090\n",
            "ma.L1.y        0.8252      0.135      6.126      0.000       0.561       1.089\n",
            "                                    Roots                                    \n",
            "=============================================================================\n",
            "                  Real          Imaginary           Modulus         Frequency\n",
            "-----------------------------------------------------------------------------\n",
            "AR.1            1.0061           +0.0000j            1.0061            0.0000\n",
            "AR.2           -1.2587           +0.0000j            1.2587            0.5000\n",
            "AR.3          -22.0794           +0.0000j           22.0794            0.5000\n",
            "MA.1           -1.2118           +0.0000j            1.2118            0.5000\n",
            "-----------------------------------------------------------------------------\n"
          ],
          "name": "stdout"
        }
      ]
    },
    {
      "cell_type": "code",
      "metadata": {
        "colab": {
          "base_uri": "https://localhost:8080/",
          "height": 224
        },
        "id": "ztIRp3CuJVJ-",
        "outputId": "b9e5748d-40eb-4ecb-c93a-4910bc8234f8"
      },
      "source": [
        "train_x_df_map[0].head()"
      ],
      "execution_count": 26,
      "outputs": [
        {
          "output_type": "execute_result",
          "data": {
            "text/html": [
              "<div>\n",
              "<style scoped>\n",
              "    .dataframe tbody tr th:only-of-type {\n",
              "        vertical-align: middle;\n",
              "    }\n",
              "\n",
              "    .dataframe tbody tr th {\n",
              "        vertical-align: top;\n",
              "    }\n",
              "\n",
              "    .dataframe thead th {\n",
              "        text-align: right;\n",
              "    }\n",
              "</style>\n",
              "<table border=\"1\" class=\"dataframe\">\n",
              "  <thead>\n",
              "    <tr style=\"text-align: right;\">\n",
              "      <th></th>\n",
              "      <th>sample_id</th>\n",
              "      <th>time</th>\n",
              "      <th>coin_index</th>\n",
              "      <th>open</th>\n",
              "      <th>high</th>\n",
              "      <th>low</th>\n",
              "      <th>close</th>\n",
              "      <th>volume</th>\n",
              "      <th>quote_av</th>\n",
              "      <th>trades</th>\n",
              "      <th>tb_base_av</th>\n",
              "      <th>tb_quote_av</th>\n",
              "      <th>next_price</th>\n",
              "      <th>next_rtn</th>\n",
              "      <th>log_return</th>\n",
              "      <th>CCI</th>\n",
              "      <th>MA5</th>\n",
              "      <th>MA10</th>\n",
              "      <th>RASD5</th>\n",
              "      <th>RASD10</th>\n",
              "      <th>MACD</th>\n",
              "      <th>ATR</th>\n",
              "      <th>ub</th>\n",
              "      <th>middle</th>\n",
              "      <th>lb</th>\n",
              "      <th>MTM1</th>\n",
              "      <th>MTM3</th>\n",
              "      <th>ROC</th>\n",
              "      <th>WPR</th>\n",
              "      <th>open_normal</th>\n",
              "      <th>high_normal</th>\n",
              "      <th>low_normal</th>\n",
              "      <th>close_normal</th>\n",
              "      <th>volume_normal</th>\n",
              "      <th>log_return_normal</th>\n",
              "      <th>RASD5_normal</th>\n",
              "      <th>RASD10_normal</th>\n",
              "      <th>ub_normal</th>\n",
              "      <th>lb_normal</th>\n",
              "      <th>CCI_normal</th>\n",
              "      <th>ATR_normal</th>\n",
              "      <th>MACD_normal</th>\n",
              "      <th>MA5_normal</th>\n",
              "      <th>MA10_normal</th>\n",
              "      <th>MTM1_normal</th>\n",
              "      <th>MTM3_normal</th>\n",
              "      <th>ROC_normal</th>\n",
              "      <th>WPR_normal</th>\n",
              "    </tr>\n",
              "  </thead>\n",
              "  <tbody>\n",
              "    <tr>\n",
              "      <th>1380</th>\n",
              "      <td>1</td>\n",
              "      <td>0</td>\n",
              "      <td>0</td>\n",
              "      <td>1.106169</td>\n",
              "      <td>1.106169</td>\n",
              "      <td>1.104910</td>\n",
              "      <td>1.104910</td>\n",
              "      <td>13.367957</td>\n",
              "      <td>46.954517</td>\n",
              "      <td>1.573812</td>\n",
              "      <td>2.732137</td>\n",
              "      <td>9.601550</td>\n",
              "      <td>1.104312</td>\n",
              "      <td>-0.001138</td>\n",
              "      <td>NaN</td>\n",
              "      <td>NaN</td>\n",
              "      <td>NaN</td>\n",
              "      <td>NaN</td>\n",
              "      <td>NaN</td>\n",
              "      <td>NaN</td>\n",
              "      <td>NaN</td>\n",
              "      <td>NaN</td>\n",
              "      <td>NaN</td>\n",
              "      <td>NaN</td>\n",
              "      <td>NaN</td>\n",
              "      <td>NaN</td>\n",
              "      <td>NaN</td>\n",
              "      <td>NaN</td>\n",
              "      <td>NaN</td>\n",
              "      <td>0.359874</td>\n",
              "      <td>0.339339</td>\n",
              "      <td>0.371424</td>\n",
              "      <td>0.356983</td>\n",
              "      <td>0.000035</td>\n",
              "      <td>NaN</td>\n",
              "      <td>NaN</td>\n",
              "      <td>NaN</td>\n",
              "      <td>NaN</td>\n",
              "      <td>NaN</td>\n",
              "      <td>NaN</td>\n",
              "      <td>NaN</td>\n",
              "      <td>NaN</td>\n",
              "      <td>NaN</td>\n",
              "      <td>NaN</td>\n",
              "      <td>NaN</td>\n",
              "      <td>NaN</td>\n",
              "      <td>NaN</td>\n",
              "      <td>NaN</td>\n",
              "    </tr>\n",
              "    <tr>\n",
              "      <th>1381</th>\n",
              "      <td>1</td>\n",
              "      <td>1</td>\n",
              "      <td>0</td>\n",
              "      <td>1.104879</td>\n",
              "      <td>1.104879</td>\n",
              "      <td>1.104312</td>\n",
              "      <td>1.104312</td>\n",
              "      <td>272.751038</td>\n",
              "      <td>957.261902</td>\n",
              "      <td>2.203336</td>\n",
              "      <td>0.000000</td>\n",
              "      <td>0.000000</td>\n",
              "      <td>1.103683</td>\n",
              "      <td>-0.000513</td>\n",
              "      <td>-0.000541</td>\n",
              "      <td>NaN</td>\n",
              "      <td>NaN</td>\n",
              "      <td>NaN</td>\n",
              "      <td>NaN</td>\n",
              "      <td>NaN</td>\n",
              "      <td>NaN</td>\n",
              "      <td>NaN</td>\n",
              "      <td>NaN</td>\n",
              "      <td>NaN</td>\n",
              "      <td>NaN</td>\n",
              "      <td>-0.000598</td>\n",
              "      <td>NaN</td>\n",
              "      <td>NaN</td>\n",
              "      <td>NaN</td>\n",
              "      <td>0.358390</td>\n",
              "      <td>0.337824</td>\n",
              "      <td>0.370744</td>\n",
              "      <td>0.356293</td>\n",
              "      <td>0.000718</td>\n",
              "      <td>0.285413</td>\n",
              "      <td>NaN</td>\n",
              "      <td>NaN</td>\n",
              "      <td>NaN</td>\n",
              "      <td>NaN</td>\n",
              "      <td>NaN</td>\n",
              "      <td>NaN</td>\n",
              "      <td>NaN</td>\n",
              "      <td>NaN</td>\n",
              "      <td>NaN</td>\n",
              "      <td>0.219293</td>\n",
              "      <td>NaN</td>\n",
              "      <td>NaN</td>\n",
              "      <td>NaN</td>\n",
              "    </tr>\n",
              "    <tr>\n",
              "      <th>1382</th>\n",
              "      <td>1</td>\n",
              "      <td>2</td>\n",
              "      <td>0</td>\n",
              "      <td>1.104407</td>\n",
              "      <td>1.105319</td>\n",
              "      <td>1.103683</td>\n",
              "      <td>1.103683</td>\n",
              "      <td>105.794769</td>\n",
              "      <td>371.359741</td>\n",
              "      <td>6.295247</td>\n",
              "      <td>73.229462</td>\n",
              "      <td>257.038788</td>\n",
              "      <td>1.102675</td>\n",
              "      <td>-0.000655</td>\n",
              "      <td>-0.000570</td>\n",
              "      <td>NaN</td>\n",
              "      <td>NaN</td>\n",
              "      <td>NaN</td>\n",
              "      <td>NaN</td>\n",
              "      <td>NaN</td>\n",
              "      <td>NaN</td>\n",
              "      <td>NaN</td>\n",
              "      <td>NaN</td>\n",
              "      <td>NaN</td>\n",
              "      <td>NaN</td>\n",
              "      <td>-0.000629</td>\n",
              "      <td>NaN</td>\n",
              "      <td>NaN</td>\n",
              "      <td>NaN</td>\n",
              "      <td>0.357847</td>\n",
              "      <td>0.338341</td>\n",
              "      <td>0.370029</td>\n",
              "      <td>0.355567</td>\n",
              "      <td>0.000279</td>\n",
              "      <td>0.285371</td>\n",
              "      <td>NaN</td>\n",
              "      <td>NaN</td>\n",
              "      <td>NaN</td>\n",
              "      <td>NaN</td>\n",
              "      <td>NaN</td>\n",
              "      <td>NaN</td>\n",
              "      <td>NaN</td>\n",
              "      <td>NaN</td>\n",
              "      <td>NaN</td>\n",
              "      <td>0.219254</td>\n",
              "      <td>NaN</td>\n",
              "      <td>NaN</td>\n",
              "      <td>NaN</td>\n",
              "    </tr>\n",
              "    <tr>\n",
              "      <th>1383</th>\n",
              "      <td>1</td>\n",
              "      <td>3</td>\n",
              "      <td>0</td>\n",
              "      <td>1.103683</td>\n",
              "      <td>1.104470</td>\n",
              "      <td>1.102518</td>\n",
              "      <td>1.102675</td>\n",
              "      <td>535.659424</td>\n",
              "      <td>1877.284180</td>\n",
              "      <td>8.813346</td>\n",
              "      <td>13.796035</td>\n",
              "      <td>48.367622</td>\n",
              "      <td>1.102140</td>\n",
              "      <td>-0.000913</td>\n",
              "      <td>-0.000913</td>\n",
              "      <td>NaN</td>\n",
              "      <td>NaN</td>\n",
              "      <td>NaN</td>\n",
              "      <td>NaN</td>\n",
              "      <td>NaN</td>\n",
              "      <td>NaN</td>\n",
              "      <td>NaN</td>\n",
              "      <td>NaN</td>\n",
              "      <td>NaN</td>\n",
              "      <td>NaN</td>\n",
              "      <td>-0.001007</td>\n",
              "      <td>-0.002235</td>\n",
              "      <td>NaN</td>\n",
              "      <td>NaN</td>\n",
              "      <td>0.357014</td>\n",
              "      <td>0.337344</td>\n",
              "      <td>0.368706</td>\n",
              "      <td>0.354406</td>\n",
              "      <td>0.001410</td>\n",
              "      <td>0.284872</td>\n",
              "      <td>NaN</td>\n",
              "      <td>NaN</td>\n",
              "      <td>NaN</td>\n",
              "      <td>NaN</td>\n",
              "      <td>NaN</td>\n",
              "      <td>NaN</td>\n",
              "      <td>NaN</td>\n",
              "      <td>NaN</td>\n",
              "      <td>NaN</td>\n",
              "      <td>0.218789</td>\n",
              "      <td>0.246326</td>\n",
              "      <td>NaN</td>\n",
              "      <td>NaN</td>\n",
              "    </tr>\n",
              "    <tr>\n",
              "      <th>1384</th>\n",
              "      <td>1</td>\n",
              "      <td>4</td>\n",
              "      <td>0</td>\n",
              "      <td>1.102675</td>\n",
              "      <td>1.102675</td>\n",
              "      <td>1.101448</td>\n",
              "      <td>1.102140</td>\n",
              "      <td>1145.788452</td>\n",
              "      <td>4012.176758</td>\n",
              "      <td>15.423355</td>\n",
              "      <td>78.489143</td>\n",
              "      <td>274.863922</td>\n",
              "      <td>1.103368</td>\n",
              "      <td>-0.000485</td>\n",
              "      <td>-0.000485</td>\n",
              "      <td>NaN</td>\n",
              "      <td>1.103544</td>\n",
              "      <td>NaN</td>\n",
              "      <td>NaN</td>\n",
              "      <td>NaN</td>\n",
              "      <td>NaN</td>\n",
              "      <td>NaN</td>\n",
              "      <td>NaN</td>\n",
              "      <td>NaN</td>\n",
              "      <td>NaN</td>\n",
              "      <td>-0.000535</td>\n",
              "      <td>-0.002172</td>\n",
              "      <td>NaN</td>\n",
              "      <td>NaN</td>\n",
              "      <td>0.355855</td>\n",
              "      <td>0.335238</td>\n",
              "      <td>0.367490</td>\n",
              "      <td>0.353789</td>\n",
              "      <td>0.003017</td>\n",
              "      <td>0.285495</td>\n",
              "      <td>NaN</td>\n",
              "      <td>NaN</td>\n",
              "      <td>NaN</td>\n",
              "      <td>NaN</td>\n",
              "      <td>NaN</td>\n",
              "      <td>NaN</td>\n",
              "      <td>NaN</td>\n",
              "      <td>0.342479</td>\n",
              "      <td>NaN</td>\n",
              "      <td>0.219370</td>\n",
              "      <td>0.246400</td>\n",
              "      <td>NaN</td>\n",
              "      <td>NaN</td>\n",
              "    </tr>\n",
              "  </tbody>\n",
              "</table>\n",
              "</div>"
            ],
            "text/plain": [
              "      sample_id  time  coin_index  ...  MTM3_normal  ROC_normal  WPR_normal\n",
              "1380          1     0           0  ...          NaN         NaN         NaN\n",
              "1381          1     1           0  ...          NaN         NaN         NaN\n",
              "1382          1     2           0  ...          NaN         NaN         NaN\n",
              "1383          1     3           0  ...     0.246326         NaN         NaN\n",
              "1384          1     4           0  ...     0.246400         NaN         NaN\n",
              "\n",
              "[5 rows x 48 columns]"
            ]
          },
          "metadata": {
            "tags": []
          },
          "execution_count": 26
        }
      ]
    },
    {
      "cell_type": "code",
      "metadata": {
        "id": "ngOYq-IF3v0n"
      },
      "source": [
        "# validation set 훈련하기\n",
        "\n",
        "# train 데이터 상단의 300개 샘플로 validation set를 구성하여 학습 및 추론\n",
        "\n",
        "#todo. sample_id와 row_id의 재배열이 필요함? --> reset_index = true\n",
        "\n",
        "valid_x_df_0 = train_x_df_map[0][train_x_df_map[0].sample_id < 1000]\n",
        "valid_y_df_0 = train_y_df_map[0][train_y_df_map[0].sample_id < 1000]\n",
        "\n",
        "valid_x_array = df2d_to_array3d(valid_x_df_0)\n",
        "valid_y_array = df2d_to_array3d(valid_y_df_0)\n",
        "#valid_pred_array = np.zeros([300, 120])\n",
        "valid_pred_array = np.zeros([valid_x_array.shape[0],120])"
      ],
      "execution_count": 27,
      "outputs": []
    },
    {
      "cell_type": "code",
      "metadata": {
        "colab": {
          "base_uri": "https://localhost:8080/"
        },
        "id": "kPhwR4pKJm2O",
        "outputId": "4fe39815-9634-4486-c265-1ea2a4a54366"
      },
      "source": [
        "print(valid_x_array.shape)\n",
        "print(valid_x_array.shape[0])\n",
        "print(valid_y_array.shape)\n",
        "print(valid_pred_array.shape)\n",
        "print(valid_y_df_0.tail())\n",
        "print()\n",
        "print(valid_x_df_0.tail())"
      ],
      "execution_count": 28,
      "outputs": [
        {
          "output_type": "stream",
          "text": [
            "(125, 1380, 46)\n",
            "125\n",
            "(125, 120, 46)\n",
            "(125, 120)\n",
            "        sample_id  time  coin_index  ...  MTM3_normal  ROC_normal  WPR_normal\n",
            "119875        998   115           0  ...     0.633224    0.453845    0.049290\n",
            "119876        998   116           0  ...     0.638867    0.456565    0.345070\n",
            "119877        998   117           0  ...     0.636186    0.458213    0.380280\n",
            "119878        998   118           0  ...     0.640560    0.457746    0.345338\n",
            "119879        998   119           0  ...     0.630262    0.455331    0.161894\n",
            "\n",
            "[5 rows x 48 columns]\n",
            "\n",
            "         sample_id  time  coin_index  ...  MTM3_normal  ROC_normal  WPR_normal\n",
            "1378615        998  1375           0  ...     0.250715    0.291444    1.000000\n",
            "1378616        998  1376           0  ...     0.250154    0.290823    0.824168\n",
            "1378617        998  1377           0  ...     0.250014    0.291133    0.819987\n",
            "1378618        998  1378           0  ...     0.248892    0.291177    0.809991\n",
            "1378619        998  1379           0  ...     0.249219    0.290910    0.797867\n",
            "\n",
            "[5 rows x 48 columns]\n"
          ],
          "name": "stdout"
        }
      ]
    },
    {
      "cell_type": "code",
      "metadata": {
        "id": "ISmRkclB3v7p",
        "colab": {
          "base_uri": "https://localhost:8080/"
        },
        "outputId": "3a41de01-848b-4d94-c210-903d23a46196"
      },
      "source": [
        "# 학습 및 추론하기\n",
        "\n",
        "# ARIMA의 (p,d,q) 값이 (5,1,1)에서 수렴하지 않을 경우\n",
        "# (4,1,1)로 변경하여 다시 학습 및 추론\n",
        "for idx in tqdm(range(valid_x_array.shape[0])):\n",
        "    try:\n",
        "        try:\n",
        "            x_series = valid_x_array[idx,:,1]\n",
        "\n",
        "            #model = ARIMA(x_series, order=(5,1,1))\n",
        "            model = ARIMA(x_series, order=(3,0,1))\n",
        "            fit  = model.fit()\n",
        "            preds = fit.predict(1,120, typ='levels')\n",
        "            valid_pred_array[idx,:] = preds# - (preds[0]-x_series[-1])\n",
        "        except:\n",
        "            print(\"order 4 1 1\")\n",
        "            x_series = valid_x_array[idx,:,1]\n",
        "\n",
        "            model = ARIMA(x_series, order=(4,1,1))\n",
        "            fit  = model.fit()\n",
        "            preds = fit.predict(1,120, typ='levels')\n",
        "            valid_pred_array[idx,:] = preds\n",
        "    except:\n",
        "        print(idx, \" 샘플은 수렴하지 않습니다.\")\n",
        "        # ARIMA의 (p,d,q) 값이 (5,1,1), (4,1,1)에서 수렴하지 않을 경우\n",
        "        # 모두 0으로 채움\n",
        "        pass"
      ],
      "execution_count": 58,
      "outputs": [
        {
          "output_type": "stream",
          "text": [
            "\r  0%|          | 0/125 [00:00<?, ?it/s]"
          ],
          "name": "stderr"
        },
        {
          "output_type": "stream",
          "text": [
            "order 4 1 1\n"
          ],
          "name": "stdout"
        },
        {
          "output_type": "stream",
          "text": [
            "\r  1%|          | 1/125 [00:01<03:01,  1.46s/it]"
          ],
          "name": "stderr"
        },
        {
          "output_type": "stream",
          "text": [
            "order 4 1 1\n"
          ],
          "name": "stdout"
        },
        {
          "output_type": "stream",
          "text": [
            "\r  2%|▏         | 2/125 [00:02<02:51,  1.39s/it]"
          ],
          "name": "stderr"
        },
        {
          "output_type": "stream",
          "text": [
            "order 4 1 1\n"
          ],
          "name": "stdout"
        },
        {
          "output_type": "stream",
          "text": [
            "\r  2%|▏         | 3/125 [00:03<02:46,  1.36s/it]"
          ],
          "name": "stderr"
        },
        {
          "output_type": "stream",
          "text": [
            "order 4 1 1\n"
          ],
          "name": "stdout"
        },
        {
          "output_type": "stream",
          "text": [
            "\r  3%|▎         | 4/125 [00:05<02:48,  1.39s/it]"
          ],
          "name": "stderr"
        },
        {
          "output_type": "stream",
          "text": [
            "order 4 1 1\n"
          ],
          "name": "stdout"
        },
        {
          "output_type": "stream",
          "text": [
            "\r  4%|▍         | 5/125 [00:06<02:44,  1.37s/it]"
          ],
          "name": "stderr"
        },
        {
          "output_type": "stream",
          "text": [
            "order 4 1 1\n"
          ],
          "name": "stdout"
        },
        {
          "output_type": "stream",
          "text": [
            "\r  5%|▍         | 6/125 [00:07<02:34,  1.30s/it]"
          ],
          "name": "stderr"
        },
        {
          "output_type": "stream",
          "text": [
            "order 4 1 1\n"
          ],
          "name": "stdout"
        },
        {
          "output_type": "stream",
          "text": [
            "\r  6%|▌         | 7/125 [00:09<02:32,  1.29s/it]"
          ],
          "name": "stderr"
        },
        {
          "output_type": "stream",
          "text": [
            "order 4 1 1\n"
          ],
          "name": "stdout"
        },
        {
          "output_type": "stream",
          "text": [
            "\r  6%|▋         | 8/125 [00:10<02:39,  1.36s/it]"
          ],
          "name": "stderr"
        },
        {
          "output_type": "stream",
          "text": [
            "order 4 1 1\n"
          ],
          "name": "stdout"
        },
        {
          "output_type": "stream",
          "text": [
            "\r  7%|▋         | 9/125 [00:11<02:25,  1.26s/it]"
          ],
          "name": "stderr"
        },
        {
          "output_type": "stream",
          "text": [
            "order 4 1 1\n"
          ],
          "name": "stdout"
        },
        {
          "output_type": "stream",
          "text": [
            "\r  8%|▊         | 10/125 [00:12<01:57,  1.02s/it]"
          ],
          "name": "stderr"
        },
        {
          "output_type": "stream",
          "text": [
            "order 4 1 1\n"
          ],
          "name": "stdout"
        },
        {
          "output_type": "stream",
          "text": [
            "\r  9%|▉         | 11/125 [00:13<01:55,  1.02s/it]"
          ],
          "name": "stderr"
        },
        {
          "output_type": "stream",
          "text": [
            "order 4 1 1\n"
          ],
          "name": "stdout"
        },
        {
          "output_type": "stream",
          "text": [
            "\r 10%|▉         | 12/125 [00:14<02:00,  1.07s/it]"
          ],
          "name": "stderr"
        },
        {
          "output_type": "stream",
          "text": [
            "order 4 1 1\n"
          ],
          "name": "stdout"
        },
        {
          "output_type": "stream",
          "text": [
            "\r 10%|█         | 13/125 [00:15<01:56,  1.04s/it]"
          ],
          "name": "stderr"
        },
        {
          "output_type": "stream",
          "text": [
            "order 4 1 1\n"
          ],
          "name": "stdout"
        },
        {
          "output_type": "stream",
          "text": [
            "\r 11%|█         | 14/125 [00:16<01:55,  1.04s/it]"
          ],
          "name": "stderr"
        },
        {
          "output_type": "stream",
          "text": [
            "order 4 1 1\n"
          ],
          "name": "stdout"
        },
        {
          "output_type": "stream",
          "text": [
            "\r 12%|█▏        | 15/125 [00:17<01:58,  1.08s/it]"
          ],
          "name": "stderr"
        },
        {
          "output_type": "stream",
          "text": [
            "order 4 1 1\n"
          ],
          "name": "stdout"
        },
        {
          "output_type": "stream",
          "text": [
            "\r 13%|█▎        | 16/125 [00:18<01:57,  1.08s/it]"
          ],
          "name": "stderr"
        },
        {
          "output_type": "stream",
          "text": [
            "order 4 1 1\n"
          ],
          "name": "stdout"
        },
        {
          "output_type": "stream",
          "text": [
            "\r 14%|█▎        | 17/125 [00:20<02:05,  1.16s/it]"
          ],
          "name": "stderr"
        },
        {
          "output_type": "stream",
          "text": [
            "order 4 1 1\n"
          ],
          "name": "stdout"
        },
        {
          "output_type": "stream",
          "text": [
            "\r 14%|█▍        | 18/125 [00:20<01:50,  1.03s/it]"
          ],
          "name": "stderr"
        },
        {
          "output_type": "stream",
          "text": [
            "17  샘플은 수렴하지 않습니다.\n",
            "order 4 1 1\n"
          ],
          "name": "stdout"
        },
        {
          "output_type": "stream",
          "text": [
            "\r 15%|█▌        | 19/125 [00:22<01:57,  1.10s/it]"
          ],
          "name": "stderr"
        },
        {
          "output_type": "stream",
          "text": [
            "order 4 1 1\n"
          ],
          "name": "stdout"
        },
        {
          "output_type": "stream",
          "text": [
            "\r 16%|█▌        | 20/125 [00:23<02:00,  1.15s/it]"
          ],
          "name": "stderr"
        },
        {
          "output_type": "stream",
          "text": [
            "order 4 1 1\n"
          ],
          "name": "stdout"
        },
        {
          "output_type": "stream",
          "text": [
            "\r 17%|█▋        | 21/125 [00:24<01:51,  1.07s/it]"
          ],
          "name": "stderr"
        },
        {
          "output_type": "stream",
          "text": [
            "20  샘플은 수렴하지 않습니다.\n",
            "order 4 1 1\n"
          ],
          "name": "stdout"
        },
        {
          "output_type": "stream",
          "text": [
            "\r 18%|█▊        | 22/125 [00:25<01:57,  1.14s/it]"
          ],
          "name": "stderr"
        },
        {
          "output_type": "stream",
          "text": [
            "order 4 1 1\n"
          ],
          "name": "stdout"
        },
        {
          "output_type": "stream",
          "text": [
            "\r 18%|█▊        | 23/125 [00:26<01:44,  1.02s/it]"
          ],
          "name": "stderr"
        },
        {
          "output_type": "stream",
          "text": [
            "22  샘플은 수렴하지 않습니다.\n",
            "order 4 1 1\n"
          ],
          "name": "stdout"
        },
        {
          "output_type": "stream",
          "text": [
            "\r 19%|█▉        | 24/125 [00:27<01:53,  1.12s/it]"
          ],
          "name": "stderr"
        },
        {
          "output_type": "stream",
          "text": [
            "order 4 1 1\n"
          ],
          "name": "stdout"
        },
        {
          "output_type": "stream",
          "text": [
            "\r 20%|██        | 25/125 [00:30<02:47,  1.68s/it]"
          ],
          "name": "stderr"
        },
        {
          "output_type": "stream",
          "text": [
            "order 4 1 1\n"
          ],
          "name": "stdout"
        },
        {
          "output_type": "stream",
          "text": [
            "\r 21%|██        | 26/125 [00:34<03:39,  2.22s/it]"
          ],
          "name": "stderr"
        },
        {
          "output_type": "stream",
          "text": [
            "order 4 1 1\n"
          ],
          "name": "stdout"
        },
        {
          "output_type": "stream",
          "text": [
            "\r 22%|██▏       | 27/125 [00:35<03:13,  1.97s/it]"
          ],
          "name": "stderr"
        },
        {
          "output_type": "stream",
          "text": [
            "order 4 1 1\n"
          ],
          "name": "stdout"
        },
        {
          "output_type": "stream",
          "text": [
            "\r 22%|██▏       | 28/125 [00:36<02:46,  1.71s/it]"
          ],
          "name": "stderr"
        },
        {
          "output_type": "stream",
          "text": [
            "order 4 1 1\n"
          ],
          "name": "stdout"
        },
        {
          "output_type": "stream",
          "text": [
            "\r 23%|██▎       | 29/125 [00:37<02:13,  1.39s/it]"
          ],
          "name": "stderr"
        },
        {
          "output_type": "stream",
          "text": [
            "order 4 1 1\n"
          ],
          "name": "stdout"
        },
        {
          "output_type": "stream",
          "text": [
            "\r 24%|██▍       | 30/125 [00:38<02:20,  1.48s/it]"
          ],
          "name": "stderr"
        },
        {
          "output_type": "stream",
          "text": [
            "order 4 1 1\n"
          ],
          "name": "stdout"
        },
        {
          "output_type": "stream",
          "text": [
            "\r 25%|██▍       | 31/125 [00:39<02:06,  1.35s/it]"
          ],
          "name": "stderr"
        },
        {
          "output_type": "stream",
          "text": [
            "order 4 1 1\n"
          ],
          "name": "stdout"
        },
        {
          "output_type": "stream",
          "text": [
            "\r 26%|██▌       | 32/125 [00:41<02:01,  1.30s/it]"
          ],
          "name": "stderr"
        },
        {
          "output_type": "stream",
          "text": [
            "order 4 1 1\n"
          ],
          "name": "stdout"
        },
        {
          "output_type": "stream",
          "text": [
            "\r 26%|██▋       | 33/125 [00:42<01:53,  1.23s/it]"
          ],
          "name": "stderr"
        },
        {
          "output_type": "stream",
          "text": [
            "order 4 1 1\n"
          ],
          "name": "stdout"
        },
        {
          "output_type": "stream",
          "text": [
            "\r 27%|██▋       | 34/125 [00:43<01:59,  1.31s/it]"
          ],
          "name": "stderr"
        },
        {
          "output_type": "stream",
          "text": [
            "order 4 1 1\n"
          ],
          "name": "stdout"
        },
        {
          "output_type": "stream",
          "text": [
            "\r 28%|██▊       | 35/125 [00:44<01:56,  1.29s/it]"
          ],
          "name": "stderr"
        },
        {
          "output_type": "stream",
          "text": [
            "order 4 1 1\n"
          ],
          "name": "stdout"
        },
        {
          "output_type": "stream",
          "text": [
            "\r 29%|██▉       | 36/125 [00:46<01:50,  1.25s/it]"
          ],
          "name": "stderr"
        },
        {
          "output_type": "stream",
          "text": [
            "order 4 1 1\n"
          ],
          "name": "stdout"
        },
        {
          "output_type": "stream",
          "text": [
            "\r 30%|██▉       | 37/125 [00:47<01:45,  1.20s/it]"
          ],
          "name": "stderr"
        },
        {
          "output_type": "stream",
          "text": [
            "order 4 1 1\n"
          ],
          "name": "stdout"
        },
        {
          "output_type": "stream",
          "text": [
            "\r 30%|███       | 38/125 [00:48<01:40,  1.16s/it]"
          ],
          "name": "stderr"
        },
        {
          "output_type": "stream",
          "text": [
            "order 4 1 1\n"
          ],
          "name": "stdout"
        },
        {
          "output_type": "stream",
          "text": [
            "\r 31%|███       | 39/125 [00:49<01:32,  1.08s/it]"
          ],
          "name": "stderr"
        },
        {
          "output_type": "stream",
          "text": [
            "order 4 1 1\n"
          ],
          "name": "stdout"
        },
        {
          "output_type": "stream",
          "text": [
            "\r 32%|███▏      | 40/125 [00:50<01:29,  1.05s/it]"
          ],
          "name": "stderr"
        },
        {
          "output_type": "stream",
          "text": [
            "order 4 1 1\n"
          ],
          "name": "stdout"
        },
        {
          "output_type": "stream",
          "text": [
            "\r 33%|███▎      | 41/125 [00:50<01:22,  1.02it/s]"
          ],
          "name": "stderr"
        },
        {
          "output_type": "stream",
          "text": [
            "order 4 1 1\n"
          ],
          "name": "stdout"
        },
        {
          "output_type": "stream",
          "text": [
            "\r 34%|███▎      | 42/125 [00:51<01:22,  1.00it/s]"
          ],
          "name": "stderr"
        },
        {
          "output_type": "stream",
          "text": [
            "order 4 1 1\n"
          ],
          "name": "stdout"
        },
        {
          "output_type": "stream",
          "text": [
            "\r 34%|███▍      | 43/125 [00:54<01:50,  1.34s/it]"
          ],
          "name": "stderr"
        },
        {
          "output_type": "stream",
          "text": [
            "order 4 1 1\n"
          ],
          "name": "stdout"
        },
        {
          "output_type": "stream",
          "text": [
            "\r 35%|███▌      | 44/125 [00:55<01:40,  1.24s/it]"
          ],
          "name": "stderr"
        },
        {
          "output_type": "stream",
          "text": [
            "order 4 1 1\n"
          ],
          "name": "stdout"
        },
        {
          "output_type": "stream",
          "text": [
            "\r 36%|███▌      | 45/125 [00:56<01:34,  1.18s/it]"
          ],
          "name": "stderr"
        },
        {
          "output_type": "stream",
          "text": [
            "order 4 1 1\n"
          ],
          "name": "stdout"
        },
        {
          "output_type": "stream",
          "text": [
            "\r 37%|███▋      | 46/125 [00:57<01:32,  1.16s/it]"
          ],
          "name": "stderr"
        },
        {
          "output_type": "stream",
          "text": [
            "order 4 1 1\n"
          ],
          "name": "stdout"
        },
        {
          "output_type": "stream",
          "text": [
            "\r 38%|███▊      | 47/125 [00:58<01:23,  1.07s/it]"
          ],
          "name": "stderr"
        },
        {
          "output_type": "stream",
          "text": [
            "order 4 1 1\n"
          ],
          "name": "stdout"
        },
        {
          "output_type": "stream",
          "text": [
            "\r 38%|███▊      | 48/125 [00:58<01:18,  1.02s/it]"
          ],
          "name": "stderr"
        },
        {
          "output_type": "stream",
          "text": [
            "order 4 1 1\n"
          ],
          "name": "stdout"
        },
        {
          "output_type": "stream",
          "text": [
            "\r 39%|███▉      | 49/125 [01:00<01:24,  1.11s/it]"
          ],
          "name": "stderr"
        },
        {
          "output_type": "stream",
          "text": [
            "order 4 1 1\n"
          ],
          "name": "stdout"
        },
        {
          "output_type": "stream",
          "text": [
            "\r 40%|████      | 50/125 [01:01<01:15,  1.01s/it]"
          ],
          "name": "stderr"
        },
        {
          "output_type": "stream",
          "text": [
            "order 4 1 1\n"
          ],
          "name": "stdout"
        },
        {
          "output_type": "stream",
          "text": [
            "\r 41%|████      | 51/125 [01:02<01:22,  1.11s/it]"
          ],
          "name": "stderr"
        },
        {
          "output_type": "stream",
          "text": [
            "order 4 1 1\n"
          ],
          "name": "stdout"
        },
        {
          "output_type": "stream",
          "text": [
            "\r 42%|████▏     | 52/125 [01:03<01:19,  1.10s/it]"
          ],
          "name": "stderr"
        },
        {
          "output_type": "stream",
          "text": [
            "order 4 1 1\n"
          ],
          "name": "stdout"
        },
        {
          "output_type": "stream",
          "text": [
            "\r 42%|████▏     | 53/125 [01:04<01:20,  1.12s/it]"
          ],
          "name": "stderr"
        },
        {
          "output_type": "stream",
          "text": [
            "order 4 1 1\n"
          ],
          "name": "stdout"
        },
        {
          "output_type": "stream",
          "text": [
            "\r 43%|████▎     | 54/125 [01:06<01:34,  1.33s/it]"
          ],
          "name": "stderr"
        },
        {
          "output_type": "stream",
          "text": [
            "order 4 1 1\n"
          ],
          "name": "stdout"
        },
        {
          "output_type": "stream",
          "text": [
            "\r 44%|████▍     | 55/125 [01:07<01:27,  1.25s/it]"
          ],
          "name": "stderr"
        },
        {
          "output_type": "stream",
          "text": [
            "order 4 1 1\n"
          ],
          "name": "stdout"
        },
        {
          "output_type": "stream",
          "text": [
            "\r 45%|████▍     | 56/125 [01:08<01:19,  1.16s/it]"
          ],
          "name": "stderr"
        },
        {
          "output_type": "stream",
          "text": [
            "order 4 1 1\n"
          ],
          "name": "stdout"
        },
        {
          "output_type": "stream",
          "text": [
            "\r 46%|████▌     | 57/125 [01:10<01:35,  1.41s/it]"
          ],
          "name": "stderr"
        },
        {
          "output_type": "stream",
          "text": [
            "order 4 1 1\n"
          ],
          "name": "stdout"
        },
        {
          "output_type": "stream",
          "text": [
            "\r 46%|████▋     | 58/125 [01:11<01:25,  1.28s/it]"
          ],
          "name": "stderr"
        },
        {
          "output_type": "stream",
          "text": [
            "order 4 1 1\n"
          ],
          "name": "stdout"
        },
        {
          "output_type": "stream",
          "text": [
            "\r 47%|████▋     | 59/125 [01:12<01:19,  1.20s/it]"
          ],
          "name": "stderr"
        },
        {
          "output_type": "stream",
          "text": [
            "order 4 1 1\n"
          ],
          "name": "stdout"
        },
        {
          "output_type": "stream",
          "text": [
            "\r 48%|████▊     | 60/125 [01:13<01:10,  1.09s/it]"
          ],
          "name": "stderr"
        },
        {
          "output_type": "stream",
          "text": [
            "order 4 1 1\n"
          ],
          "name": "stdout"
        },
        {
          "output_type": "stream",
          "text": [
            "\r 49%|████▉     | 61/125 [01:15<01:24,  1.32s/it]"
          ],
          "name": "stderr"
        },
        {
          "output_type": "stream",
          "text": [
            "order 4 1 1\n"
          ],
          "name": "stdout"
        },
        {
          "output_type": "stream",
          "text": [
            "\r 50%|████▉     | 62/125 [01:16<01:20,  1.28s/it]"
          ],
          "name": "stderr"
        },
        {
          "output_type": "stream",
          "text": [
            "order 4 1 1\n"
          ],
          "name": "stdout"
        },
        {
          "output_type": "stream",
          "text": [
            "\r 50%|█████     | 63/125 [01:17<01:25,  1.37s/it]"
          ],
          "name": "stderr"
        },
        {
          "output_type": "stream",
          "text": [
            "order 4 1 1\n"
          ],
          "name": "stdout"
        },
        {
          "output_type": "stream",
          "text": [
            "\r 51%|█████     | 64/125 [01:18<01:14,  1.22s/it]"
          ],
          "name": "stderr"
        },
        {
          "output_type": "stream",
          "text": [
            "order 4 1 1\n"
          ],
          "name": "stdout"
        },
        {
          "output_type": "stream",
          "text": [
            "\r 52%|█████▏    | 65/125 [01:20<01:24,  1.40s/it]"
          ],
          "name": "stderr"
        },
        {
          "output_type": "stream",
          "text": [
            "order 4 1 1\n"
          ],
          "name": "stdout"
        },
        {
          "output_type": "stream",
          "text": [
            "\r 53%|█████▎    | 66/125 [01:21<01:14,  1.27s/it]"
          ],
          "name": "stderr"
        },
        {
          "output_type": "stream",
          "text": [
            "order 4 1 1\n"
          ],
          "name": "stdout"
        },
        {
          "output_type": "stream",
          "text": [
            "\r 54%|█████▎    | 67/125 [01:24<01:38,  1.71s/it]"
          ],
          "name": "stderr"
        },
        {
          "output_type": "stream",
          "text": [
            "order 4 1 1\n"
          ],
          "name": "stdout"
        },
        {
          "output_type": "stream",
          "text": [
            "\r 54%|█████▍    | 68/125 [01:25<01:34,  1.66s/it]"
          ],
          "name": "stderr"
        },
        {
          "output_type": "stream",
          "text": [
            "order 4 1 1\n"
          ],
          "name": "stdout"
        },
        {
          "output_type": "stream",
          "text": [
            "\r 55%|█████▌    | 69/125 [01:26<01:23,  1.49s/it]"
          ],
          "name": "stderr"
        },
        {
          "output_type": "stream",
          "text": [
            "order 4 1 1\n"
          ],
          "name": "stdout"
        },
        {
          "output_type": "stream",
          "text": [
            "\r 56%|█████▌    | 70/125 [01:27<01:12,  1.32s/it]"
          ],
          "name": "stderr"
        },
        {
          "output_type": "stream",
          "text": [
            "order 4 1 1\n"
          ],
          "name": "stdout"
        },
        {
          "output_type": "stream",
          "text": [
            "\r 57%|█████▋    | 71/125 [01:29<01:15,  1.41s/it]"
          ],
          "name": "stderr"
        },
        {
          "output_type": "stream",
          "text": [
            "order 4 1 1\n"
          ],
          "name": "stdout"
        },
        {
          "output_type": "stream",
          "text": [
            "\r 58%|█████▊    | 72/125 [01:30<01:08,  1.30s/it]"
          ],
          "name": "stderr"
        },
        {
          "output_type": "stream",
          "text": [
            "order 4 1 1\n"
          ],
          "name": "stdout"
        },
        {
          "output_type": "stream",
          "text": [
            "\r 58%|█████▊    | 73/125 [01:32<01:16,  1.48s/it]"
          ],
          "name": "stderr"
        },
        {
          "output_type": "stream",
          "text": [
            "order 4 1 1\n"
          ],
          "name": "stdout"
        },
        {
          "output_type": "stream",
          "text": [
            "\r 59%|█████▉    | 74/125 [01:33<01:06,  1.31s/it]"
          ],
          "name": "stderr"
        },
        {
          "output_type": "stream",
          "text": [
            "order 4 1 1\n"
          ],
          "name": "stdout"
        },
        {
          "output_type": "stream",
          "text": [
            "\r 60%|██████    | 75/125 [01:34<01:05,  1.31s/it]"
          ],
          "name": "stderr"
        },
        {
          "output_type": "stream",
          "text": [
            "order 4 1 1\n"
          ],
          "name": "stdout"
        },
        {
          "output_type": "stream",
          "text": [
            "\r 61%|██████    | 76/125 [01:35<01:02,  1.28s/it]"
          ],
          "name": "stderr"
        },
        {
          "output_type": "stream",
          "text": [
            "order 4 1 1\n"
          ],
          "name": "stdout"
        },
        {
          "output_type": "stream",
          "text": [
            "\r 62%|██████▏   | 77/125 [01:37<01:02,  1.31s/it]"
          ],
          "name": "stderr"
        },
        {
          "output_type": "stream",
          "text": [
            "order 4 1 1\n"
          ],
          "name": "stdout"
        },
        {
          "output_type": "stream",
          "text": [
            "\r 62%|██████▏   | 78/125 [01:38<01:06,  1.41s/it]"
          ],
          "name": "stderr"
        },
        {
          "output_type": "stream",
          "text": [
            "order 4 1 1\n"
          ],
          "name": "stdout"
        },
        {
          "output_type": "stream",
          "text": [
            "\r 63%|██████▎   | 79/125 [01:40<01:09,  1.52s/it]"
          ],
          "name": "stderr"
        },
        {
          "output_type": "stream",
          "text": [
            "order 4 1 1\n"
          ],
          "name": "stdout"
        },
        {
          "output_type": "stream",
          "text": [
            "\r 64%|██████▍   | 80/125 [01:41<01:03,  1.41s/it]"
          ],
          "name": "stderr"
        },
        {
          "output_type": "stream",
          "text": [
            "order 4 1 1\n"
          ],
          "name": "stdout"
        },
        {
          "output_type": "stream",
          "text": [
            "\r 65%|██████▍   | 81/125 [01:43<01:01,  1.40s/it]"
          ],
          "name": "stderr"
        },
        {
          "output_type": "stream",
          "text": [
            "order 4 1 1\n"
          ],
          "name": "stdout"
        },
        {
          "output_type": "stream",
          "text": [
            "\r 66%|██████▌   | 82/125 [01:44<00:53,  1.25s/it]"
          ],
          "name": "stderr"
        },
        {
          "output_type": "stream",
          "text": [
            "order 4 1 1\n"
          ],
          "name": "stdout"
        },
        {
          "output_type": "stream",
          "text": [
            "\r 66%|██████▋   | 83/125 [01:45<00:54,  1.30s/it]"
          ],
          "name": "stderr"
        },
        {
          "output_type": "stream",
          "text": [
            "order 4 1 1\n"
          ],
          "name": "stdout"
        },
        {
          "output_type": "stream",
          "text": [
            "\r 67%|██████▋   | 84/125 [01:47<00:57,  1.41s/it]"
          ],
          "name": "stderr"
        },
        {
          "output_type": "stream",
          "text": [
            "order 4 1 1\n"
          ],
          "name": "stdout"
        },
        {
          "output_type": "stream",
          "text": [
            "\r 68%|██████▊   | 85/125 [01:49<01:01,  1.55s/it]"
          ],
          "name": "stderr"
        },
        {
          "output_type": "stream",
          "text": [
            "order 4 1 1\n"
          ],
          "name": "stdout"
        },
        {
          "output_type": "stream",
          "text": [
            "\r 69%|██████▉   | 86/125 [01:49<00:51,  1.31s/it]"
          ],
          "name": "stderr"
        },
        {
          "output_type": "stream",
          "text": [
            "order 4 1 1\n"
          ],
          "name": "stdout"
        },
        {
          "output_type": "stream",
          "text": [
            "\r 70%|██████▉   | 87/125 [01:51<00:56,  1.50s/it]"
          ],
          "name": "stderr"
        },
        {
          "output_type": "stream",
          "text": [
            "order 4 1 1\n"
          ],
          "name": "stdout"
        },
        {
          "output_type": "stream",
          "text": [
            "\r 70%|███████   | 88/125 [01:53<00:53,  1.44s/it]"
          ],
          "name": "stderr"
        },
        {
          "output_type": "stream",
          "text": [
            "order 4 1 1\n"
          ],
          "name": "stdout"
        },
        {
          "output_type": "stream",
          "text": [
            "\r 71%|███████   | 89/125 [01:53<00:45,  1.27s/it]"
          ],
          "name": "stderr"
        },
        {
          "output_type": "stream",
          "text": [
            "order 4 1 1\n"
          ],
          "name": "stdout"
        },
        {
          "output_type": "stream",
          "text": [
            "\r 72%|███████▏  | 90/125 [01:54<00:40,  1.16s/it]"
          ],
          "name": "stderr"
        },
        {
          "output_type": "stream",
          "text": [
            "order 4 1 1\n"
          ],
          "name": "stdout"
        },
        {
          "output_type": "stream",
          "text": [
            "\r 73%|███████▎  | 91/125 [01:56<00:43,  1.29s/it]"
          ],
          "name": "stderr"
        },
        {
          "output_type": "stream",
          "text": [
            "order 4 1 1\n"
          ],
          "name": "stdout"
        },
        {
          "output_type": "stream",
          "text": [
            "\r 74%|███████▎  | 92/125 [01:58<00:47,  1.44s/it]"
          ],
          "name": "stderr"
        },
        {
          "output_type": "stream",
          "text": [
            "order 4 1 1\n"
          ],
          "name": "stdout"
        },
        {
          "output_type": "stream",
          "text": [
            "\r 74%|███████▍  | 93/125 [01:59<00:45,  1.41s/it]"
          ],
          "name": "stderr"
        },
        {
          "output_type": "stream",
          "text": [
            "order 4 1 1\n"
          ],
          "name": "stdout"
        },
        {
          "output_type": "stream",
          "text": [
            "\r 75%|███████▌  | 94/125 [02:00<00:41,  1.34s/it]"
          ],
          "name": "stderr"
        },
        {
          "output_type": "stream",
          "text": [
            "order 4 1 1\n"
          ],
          "name": "stdout"
        },
        {
          "output_type": "stream",
          "text": [
            "\r 76%|███████▌  | 95/125 [02:02<00:43,  1.45s/it]"
          ],
          "name": "stderr"
        },
        {
          "output_type": "stream",
          "text": [
            "order 4 1 1\n"
          ],
          "name": "stdout"
        },
        {
          "output_type": "stream",
          "text": [
            "\r 77%|███████▋  | 96/125 [02:03<00:39,  1.36s/it]"
          ],
          "name": "stderr"
        },
        {
          "output_type": "stream",
          "text": [
            "order 4 1 1\n"
          ],
          "name": "stdout"
        },
        {
          "output_type": "stream",
          "text": [
            "\r 78%|███████▊  | 97/125 [02:04<00:36,  1.29s/it]"
          ],
          "name": "stderr"
        },
        {
          "output_type": "stream",
          "text": [
            "order 4 1 1\n"
          ],
          "name": "stdout"
        },
        {
          "output_type": "stream",
          "text": [
            "\r 78%|███████▊  | 98/125 [02:06<00:35,  1.30s/it]"
          ],
          "name": "stderr"
        },
        {
          "output_type": "stream",
          "text": [
            "order 4 1 1\n"
          ],
          "name": "stdout"
        },
        {
          "output_type": "stream",
          "text": [
            "\r 79%|███████▉  | 99/125 [02:07<00:35,  1.36s/it]"
          ],
          "name": "stderr"
        },
        {
          "output_type": "stream",
          "text": [
            "order 4 1 1\n"
          ],
          "name": "stdout"
        },
        {
          "output_type": "stream",
          "text": [
            "\r 80%|████████  | 100/125 [02:09<00:37,  1.51s/it]"
          ],
          "name": "stderr"
        },
        {
          "output_type": "stream",
          "text": [
            "order 4 1 1\n"
          ],
          "name": "stdout"
        },
        {
          "output_type": "stream",
          "text": [
            "\r 81%|████████  | 101/125 [02:12<00:48,  2.03s/it]"
          ],
          "name": "stderr"
        },
        {
          "output_type": "stream",
          "text": [
            "order 4 1 1\n"
          ],
          "name": "stdout"
        },
        {
          "output_type": "stream",
          "text": [
            "\r 82%|████████▏ | 102/125 [02:13<00:40,  1.74s/it]"
          ],
          "name": "stderr"
        },
        {
          "output_type": "stream",
          "text": [
            "order 4 1 1\n"
          ],
          "name": "stdout"
        },
        {
          "output_type": "stream",
          "text": [
            "\r 82%|████████▏ | 103/125 [02:14<00:33,  1.53s/it]"
          ],
          "name": "stderr"
        },
        {
          "output_type": "stream",
          "text": [
            "order 4 1 1\n"
          ],
          "name": "stdout"
        },
        {
          "output_type": "stream",
          "text": [
            "\r 83%|████████▎ | 104/125 [02:16<00:31,  1.48s/it]"
          ],
          "name": "stderr"
        },
        {
          "output_type": "stream",
          "text": [
            "order 4 1 1\n"
          ],
          "name": "stdout"
        },
        {
          "output_type": "stream",
          "text": [
            "\r 84%|████████▍ | 105/125 [02:17<00:29,  1.45s/it]"
          ],
          "name": "stderr"
        },
        {
          "output_type": "stream",
          "text": [
            "order 4 1 1\n"
          ],
          "name": "stdout"
        },
        {
          "output_type": "stream",
          "text": [
            "\r 85%|████████▍ | 106/125 [02:19<00:28,  1.51s/it]"
          ],
          "name": "stderr"
        },
        {
          "output_type": "stream",
          "text": [
            "order 4 1 1\n"
          ],
          "name": "stdout"
        },
        {
          "output_type": "stream",
          "text": [
            "\r 86%|████████▌ | 107/125 [02:20<00:24,  1.37s/it]"
          ],
          "name": "stderr"
        },
        {
          "output_type": "stream",
          "text": [
            "order 4 1 1\n"
          ],
          "name": "stdout"
        },
        {
          "output_type": "stream",
          "text": [
            "\r 86%|████████▋ | 108/125 [02:21<00:22,  1.31s/it]"
          ],
          "name": "stderr"
        },
        {
          "output_type": "stream",
          "text": [
            "order 4 1 1\n"
          ],
          "name": "stdout"
        },
        {
          "output_type": "stream",
          "text": [
            "\r 87%|████████▋ | 109/125 [02:22<00:19,  1.22s/it]"
          ],
          "name": "stderr"
        },
        {
          "output_type": "stream",
          "text": [
            "order 4 1 1\n"
          ],
          "name": "stdout"
        },
        {
          "output_type": "stream",
          "text": [
            "\r 88%|████████▊ | 110/125 [02:23<00:19,  1.29s/it]"
          ],
          "name": "stderr"
        },
        {
          "output_type": "stream",
          "text": [
            "order 4 1 1\n"
          ],
          "name": "stdout"
        },
        {
          "output_type": "stream",
          "text": [
            "\r 89%|████████▉ | 111/125 [02:24<00:16,  1.17s/it]"
          ],
          "name": "stderr"
        },
        {
          "output_type": "stream",
          "text": [
            "order 4 1 1\n"
          ],
          "name": "stdout"
        },
        {
          "output_type": "stream",
          "text": [
            "\r 90%|████████▉ | 112/125 [02:26<00:17,  1.32s/it]"
          ],
          "name": "stderr"
        },
        {
          "output_type": "stream",
          "text": [
            "order 4 1 1\n"
          ],
          "name": "stdout"
        },
        {
          "output_type": "stream",
          "text": [
            "\r 90%|█████████ | 113/125 [02:29<00:21,  1.82s/it]"
          ],
          "name": "stderr"
        },
        {
          "output_type": "stream",
          "text": [
            "order 4 1 1\n"
          ],
          "name": "stdout"
        },
        {
          "output_type": "stream",
          "text": [
            "\r 91%|█████████ | 114/125 [02:30<00:17,  1.57s/it]"
          ],
          "name": "stderr"
        },
        {
          "output_type": "stream",
          "text": [
            "order 4 1 1\n"
          ],
          "name": "stdout"
        },
        {
          "output_type": "stream",
          "text": [
            "\r 92%|█████████▏| 115/125 [02:31<00:13,  1.36s/it]"
          ],
          "name": "stderr"
        },
        {
          "output_type": "stream",
          "text": [
            "order 4 1 1\n"
          ],
          "name": "stdout"
        },
        {
          "output_type": "stream",
          "text": [
            "\r 93%|█████████▎| 116/125 [02:32<00:11,  1.24s/it]"
          ],
          "name": "stderr"
        },
        {
          "output_type": "stream",
          "text": [
            "order 4 1 1\n"
          ],
          "name": "stdout"
        },
        {
          "output_type": "stream",
          "text": [
            "\r 94%|█████████▎| 117/125 [02:33<00:09,  1.19s/it]"
          ],
          "name": "stderr"
        },
        {
          "output_type": "stream",
          "text": [
            "order 4 1 1\n"
          ],
          "name": "stdout"
        },
        {
          "output_type": "stream",
          "text": [
            "\r 94%|█████████▍| 118/125 [02:34<00:08,  1.22s/it]"
          ],
          "name": "stderr"
        },
        {
          "output_type": "stream",
          "text": [
            "order 4 1 1\n"
          ],
          "name": "stdout"
        },
        {
          "output_type": "stream",
          "text": [
            "\r 95%|█████████▌| 119/125 [02:35<00:06,  1.13s/it]"
          ],
          "name": "stderr"
        },
        {
          "output_type": "stream",
          "text": [
            "order 4 1 1\n"
          ],
          "name": "stdout"
        },
        {
          "output_type": "stream",
          "text": [
            "\r 96%|█████████▌| 120/125 [02:36<00:05,  1.04s/it]"
          ],
          "name": "stderr"
        },
        {
          "output_type": "stream",
          "text": [
            "order 4 1 1\n"
          ],
          "name": "stdout"
        },
        {
          "output_type": "stream",
          "text": [
            "\r 97%|█████████▋| 121/125 [02:37<00:03,  1.01it/s]"
          ],
          "name": "stderr"
        },
        {
          "output_type": "stream",
          "text": [
            "order 4 1 1\n"
          ],
          "name": "stdout"
        },
        {
          "output_type": "stream",
          "text": [
            "\r 98%|█████████▊| 122/125 [02:38<00:03,  1.17s/it]"
          ],
          "name": "stderr"
        },
        {
          "output_type": "stream",
          "text": [
            "order 4 1 1\n"
          ],
          "name": "stdout"
        },
        {
          "output_type": "stream",
          "text": [
            "\r 98%|█████████▊| 123/125 [02:45<00:05,  2.97s/it]"
          ],
          "name": "stderr"
        },
        {
          "output_type": "stream",
          "text": [
            "order 4 1 1\n"
          ],
          "name": "stdout"
        },
        {
          "output_type": "stream",
          "text": [
            "\r 99%|█████████▉| 124/125 [02:46<00:02,  2.38s/it]"
          ],
          "name": "stderr"
        },
        {
          "output_type": "stream",
          "text": [
            "order 4 1 1\n"
          ],
          "name": "stdout"
        },
        {
          "output_type": "stream",
          "text": [
            "100%|██████████| 125/125 [02:48<00:00,  1.35s/it]\n"
          ],
          "name": "stderr"
        }
      ]
    },
    {
      "cell_type": "code",
      "metadata": {
        "colab": {
          "base_uri": "https://localhost:8080/"
        },
        "id": "-6M-ucIN8zSy",
        "outputId": "c65efeae-deab-4112-f5a1-5c58cd5d7839"
      },
      "source": [
        "valid_x_df_0.sample_id.unique()"
      ],
      "execution_count": 59,
      "outputs": [
        {
          "output_type": "execute_result",
          "data": {
            "text/plain": [
              "array([  1,  16,  19,  26,  30,  40,  53,  55,  61,  62,  79,  89, 103,\n",
              "       106, 110, 116, 119, 121, 124, 130, 135, 137, 138, 149, 151, 153,\n",
              "       154, 161, 171, 175, 206, 209, 217, 233, 239, 244, 246, 266, 281,\n",
              "       285, 291, 297, 300, 305, 322, 329, 332, 340, 343, 351, 355, 365,\n",
              "       370, 380, 381, 395, 399, 407, 409, 419, 449, 451, 457, 460, 471,\n",
              "       474, 486, 487, 494, 501, 506, 528, 534, 554, 593, 597, 599, 603,\n",
              "       608, 614, 618, 620, 647, 648, 649, 663, 671, 689, 691, 692, 701,\n",
              "       734, 742, 755, 759, 779, 787, 800, 804, 817, 841, 857, 871, 880,\n",
              "       889, 894, 895, 899, 911, 914, 919, 921, 922, 937, 949, 960, 961,\n",
              "       966, 970, 972, 973, 978, 984, 989, 998])"
            ]
          },
          "metadata": {
            "tags": []
          },
          "execution_count": 59
        }
      ]
    },
    {
      "cell_type": "code",
      "metadata": {
        "id": "Td_5ZL3MCDU4"
      },
      "source": [
        "# valid_pred_array 로부터 buy_quantity, sell_time 구하기\n",
        "\n",
        "#def array_to_submission(x_array, pred_array):\n",
        "def array_to_submission(valid_x_df_0, pred_array):\n",
        "    # 입력 x_arrry와 출력 pred_arry를 통해서 \n",
        "    # buy_quantitiy와 sell_time을 결정\n",
        "    submission = pd.DataFrame(np.zeros([pred_array.shape[0],2], np.int64),\n",
        "                columns = ['buy_quantity', 'sell_time'])\n",
        "    #print('submission1:', submission.head())\n",
        "    submission = submission.reset_index()\n",
        "    #print('submission2:', submission.head())\n",
        "    submission.loc[:, 'buy_quantity'] = 0.1\n",
        "    \n",
        "    buy_price = []\n",
        "    for idx, sell_time in enumerate(np.argmax(pred_array, axis = 1)):\n",
        "        buy_price.append(pred_array[idx, sell_time])\n",
        "    buy_price = np.array(buy_price)\n",
        "    # 115% 이상 상승한하고 예측한 sample에 대해서만 100% 매수\n",
        "    submission.loc[:, 'buy_quantity'] = (buy_price > 1.15) * 1\n",
        "    # 모델이 예측값 중 최대 값에 해당하는 시간에 매도\n",
        "    submission['sell_time'] = np.argmax(pred_array, axis = 1)\n",
        "    submission.columns = ['sample_id','buy_quantity', 'sell_time']\n",
        "    submission['sample_id_orgin'] = valid_x_df_0.sample_id.unique()\n",
        "    return submission"
      ],
      "execution_count": 71,
      "outputs": []
    },
    {
      "cell_type": "code",
      "metadata": {
        "colab": {
          "base_uri": "https://localhost:8080/"
        },
        "id": "VSP7Q-6sCDXZ",
        "outputId": "c6988418-ca18-48d0-db61-518dce7dc150"
      },
      "source": [
        "#valid_submission = array_to_submission(valid_x_array, valid_pred_array)\n",
        "valid_submission = array_to_submission(valid_x_df_0, valid_pred_array)\n",
        "print(valid_submission)"
      ],
      "execution_count": 61,
      "outputs": [
        {
          "output_type": "stream",
          "text": [
            "submission1:    buy_quantity  sell_time\n",
            "0             0          0\n",
            "1             0          0\n",
            "2             0          0\n",
            "3             0          0\n",
            "4             0          0\n",
            "submission2:    index  buy_quantity  sell_time\n",
            "0      0             0          0\n",
            "1      1             0          0\n",
            "2      2             0          0\n",
            "3      3             0          0\n",
            "4      4             0          0\n",
            "     sample_id  buy_quantity  sell_time  sample_id_orgin\n",
            "0            0             0         24                1\n",
            "1            1             0        119               16\n",
            "2            2             0         13               19\n",
            "3            3             0         21               26\n",
            "4            4             0        118               30\n",
            "..         ...           ...        ...              ...\n",
            "120        120             0         83              973\n",
            "121        121             0         12              978\n",
            "122        122             0         53              984\n",
            "123        123             0         55              989\n",
            "124        124             0         51              998\n",
            "\n",
            "[125 rows x 4 columns]\n"
          ],
          "name": "stdout"
        }
      ]
    },
    {
      "cell_type": "code",
      "metadata": {
        "colab": {
          "base_uri": "https://localhost:8080/"
        },
        "id": "wqv0SQ5PCqFI",
        "outputId": "c3cb0b34-3296-42ef-d747-b5ad811688cc"
      },
      "source": [
        "# 전체 300가지 sample에 대해\n",
        "# 9가지 case에서 115% 이상 상승한다고 추론함.\n",
        "print(valid_submission.buy_quantity.value_counts())\n",
        "print(valid_submission.shape)"
      ],
      "execution_count": 62,
      "outputs": [
        {
          "output_type": "stream",
          "text": [
            "0    120\n",
            "1      5\n",
            "Name: buy_quantity, dtype: int64\n",
            "(125, 4)\n"
          ],
          "name": "stdout"
        }
      ]
    },
    {
      "cell_type": "code",
      "metadata": {
        "id": "z2dd4nMwCuqT"
      },
      "source": [
        "# 투자 후 금액 계산하기\n",
        "\n",
        "def df2d_to_answer(df_2d):\n",
        "    # valid_y_df로부터\n",
        "    # open 가격 정보가 포함된\n",
        "    # [샘플 수, 120분] 크기의 \n",
        "    # 2차원 array를 반환하는 함수\n",
        "    feature_size = df_2d.iloc[:,2:].shape[1]\n",
        "    #print('feature_size:', feature_size)\n",
        "\n",
        "    time_size = len(df_2d.time.value_counts())\n",
        "    #print('time_size:', time_size)\n",
        "\n",
        "    sample_size = len(df_2d.sample_id.value_counts())\n",
        "    #print('sample_size:', sample_size)\n",
        "\n",
        "    sample_index = df_2d.sample_id.value_counts().index\n",
        "    #print('df_2d.sample_id.value_counts():', df_2d.sample_id.value_counts())\n",
        "    #print('sample_index:', sample_index)\n",
        "\n",
        "    array_2d = df_2d.open.values.reshape([sample_size, time_size])\n",
        "    #print('array_2d.shape:', array_2d.shape)\n",
        "\n",
        "    sample_index = list(sample_index)\n",
        "    return array_2d, sample_index\n",
        "\n",
        "\n",
        "def COIN(y_df, submission, df2d_to_answer = df2d_to_answer, money = 10000):\n",
        "    # 2차원 데이터프레임에서 open 시점 데이터만 추출하여 array로 복원\n",
        "    # sample_id정보를 index에 저장\n",
        "    y_array, index = df2d_to_answer(y_df) # index: sample_id index\n",
        "    #print('y_array.shape:', y_array.shape)\n",
        "    #print('index:', index)\n",
        "    \n",
        "    # index 기준으로 submission을 다시 선택\n",
        "    #print('submission.columns[0]:', submission.columns[0])\n",
        "    #submission = submission.set_index(submission.columns[0]) # sample_id\n",
        "    #index를 다시 잡으면 아래 for 순회시 sample_id로 잡혀서 out_of_range발생.. 그냥 row_index를 사용하도록 둠.\n",
        "    #submission = submission.set_index('sample_id_orgin') # sample_id  \n",
        "\n",
        "    #print('submission.shape:', submission.shape)\n",
        "    #submission = submission.iloc[index, :]    \n",
        "    #print('submission:', submission.head())\n",
        "    #print('submission:', submission.tail())\n",
        "    \n",
        "    # 초기 투자 비용은 10000 달러\n",
        "    total_momey      = money # dolors\n",
        "    total_momey_list = []\n",
        "    \n",
        "    # 가장 처음 sample_id값\n",
        "    start_index = submission.index[0]\n",
        "    #print('submission.index:', submission.index)\n",
        "    #print('len(y_array):', len(y_array))\n",
        "    for row_idx in submission.index:\n",
        "        sell_time  = submission.loc[row_idx, 'sell_time']\n",
        "        #print('row_idx - start_index:', row_idx - start_index)\n",
        "        buy_price  = y_array[row_idx - start_index, 0]\n",
        "        sell_price = y_array[row_idx - start_index, sell_time]\n",
        "        buy_quantity = submission.loc[row_idx, 'buy_quantity'] * total_momey\n",
        "        residual = total_momey - buy_quantity\n",
        "        ratio = sell_price / buy_price\n",
        "        total_momey = buy_quantity * ratio * 0.9995 * 0.9995 + residual        \n",
        "        total_momey_list.append(total_momey)\n",
        "        \n",
        "    return total_momey, total_momey_list"
      ],
      "execution_count": 84,
      "outputs": []
    },
    {
      "cell_type": "code",
      "metadata": {
        "colab": {
          "base_uri": "https://localhost:8080/"
        },
        "id": "WZtTmBaVgAL3",
        "outputId": "1af59c40-c184-4c25-be95-4acf7e8fd7ae"
      },
      "source": [
        "print(valid_y_df_0.head())\n",
        "print()\n",
        "print(valid_y_df_0.tail())\n",
        "print()\n",
        "# valid_y_df_0 = valid_y_df_0.reset_index()\n",
        "# #valid_y_df_0 = valid_y_df_0.reset_index(ignore_index=True)\n",
        "# print(valid_y_df_0.head())\n",
        "# print(valid_y_df_0.tail())"
      ],
      "execution_count": 64,
      "outputs": [
        {
          "output_type": "stream",
          "text": [
            "     sample_id  time  coin_index  ...  MTM3_normal  ROC_normal  WPR_normal\n",
            "120          1     0           0  ...          NaN         NaN         NaN\n",
            "121          1     1           0  ...          NaN         NaN         NaN\n",
            "122          1     2           0  ...          NaN         NaN         NaN\n",
            "123          1     3           0  ...     0.632445         NaN         NaN\n",
            "124          1     4           0  ...     0.633111         NaN         NaN\n",
            "\n",
            "[5 rows x 48 columns]\n",
            "\n",
            "        sample_id  time  coin_index  ...  MTM3_normal  ROC_normal  WPR_normal\n",
            "119875        998   115           0  ...     0.633224    0.453845    0.049290\n",
            "119876        998   116           0  ...     0.638867    0.456565    0.345070\n",
            "119877        998   117           0  ...     0.636186    0.458213    0.380280\n",
            "119878        998   118           0  ...     0.640560    0.457746    0.345338\n",
            "119879        998   119           0  ...     0.630262    0.455331    0.161894\n",
            "\n",
            "[5 rows x 48 columns]\n",
            "\n"
          ],
          "name": "stdout"
        }
      ]
    },
    {
      "cell_type": "code",
      "metadata": {
        "colab": {
          "base_uri": "https://localhost:8080/",
          "height": 841
        },
        "id": "U6YPK0AQCqHZ",
        "outputId": "c1a50ca6-ee50-4ae4-e5fb-6d3dcaf6adbb"
      },
      "source": [
        "print(valid_y_df_0.shape)\n",
        "print(valid_submission.shape)\n",
        "print(valid_submission.index[0])\n",
        "total_momey, total_momey_list = COIN(valid_y_df_0, valid_submission)\n",
        "\n",
        "# 투자 후 금액\n",
        "print(total_momey)\n",
        "\n",
        "# 투자 히스토리\n",
        "plt.plot(total_momey_list)\n",
        "plt.title(\"history\")\n",
        "plt.show()"
      ],
      "execution_count": 65,
      "outputs": [
        {
          "output_type": "stream",
          "text": [
            "(15000, 48)\n",
            "(125, 4)\n",
            "0\n",
            "feature_size: 46\n",
            "time_size: 120\n",
            "sample_size: 125\n",
            "sample_index: Int64Index([919, 554, 921, 937, 961,  26, 106, 130, 138, 154,\n",
            "            ...\n",
            "            501, 597, 701, 949, 973, 989,  30,  62, 110,  16],\n",
            "           dtype='int64', length=125)\n",
            "array_2d.shape: (125, 120)\n",
            "y_array.shape: (125, 120)\n",
            "index: [919, 554, 921, 937, 961, 26, 106, 130, 138, 154, 266, 322, 370, 474, 506, 618, 779, 914, 922, 970, 978, 19, 171, 291, 355, 395, 419, 451, 603, 691, 889, 857, 841, 817, 40, 528, 608, 648, 800, 880, 960, 984, 1, 89, 121, 137, 153, 161, 209, 217, 233, 281, 297, 305, 329, 409, 449, 457, 593, 649, 689, 755, 787, 911, 175, 534, 614, 734, 742, 894, 966, 998, 55, 79, 103, 119, 135, 151, 239, 899, 343, 351, 399, 407, 471, 487, 599, 647, 663, 671, 759, 871, 895, 494, 486, 246, 206, 116, 124, 244, 300, 332, 340, 380, 460, 620, 692, 804, 972, 53, 61, 149, 285, 365, 381, 501, 597, 701, 949, 973, 989, 30, 62, 110, 16]\n",
            "submission.columns[0]: sample_id\n",
            "submission.shape: (125, 4)\n",
            "submission:    sample_id  buy_quantity  sell_time  sample_id_orgin\n",
            "0          0             0         24                1\n",
            "1          1             0        119               16\n",
            "2          2             0         13               19\n",
            "3          3             0         21               26\n",
            "4          4             0        118               30\n",
            "submission:      sample_id  buy_quantity  sell_time  sample_id_orgin\n",
            "120        120             0         83              973\n",
            "121        121             0         12              978\n",
            "122        122             0         53              984\n",
            "123        123             0         55              989\n",
            "124        124             0         51              998\n",
            "submission.index: RangeIndex(start=0, stop=125, step=1)\n",
            "len(y_array): 125\n",
            "10028.302347508383\n"
          ],
          "name": "stdout"
        },
        {
          "output_type": "display_data",
          "data": {
            "image/png": "[encoded data removed]",
            "text/plain": [
              "<Figure size 432x288 with 1 Axes>"
            ]
          },
          "metadata": {
            "tags": [],
            "needs_background": "light"
          }
        }
      ]
    },
    {
      "cell_type": "code",
      "metadata": {
        "colab": {
          "base_uri": "https://localhost:8080/"
        },
        "id": "t3r9FGgAZGQD",
        "outputId": "c3204974-3ab8-4905-804b-fab6594c9a3d"
      },
      "source": [
        "# test 테이터도, coin별로 Set을 나누기\n",
        "# => test_x_df_map[0~9]\n",
        "\n",
        "# 개별 추론->결과 합치기(submission)\n",
        "# => test_x_df_map_arr[0~9]\n",
        "\n",
        "test_x_array_map = {}\n",
        "for idx in range(10):\n",
        "    test_x_array_map[idx] = test_x_df_map_arr[idx]\n",
        "print(test_x_array_map[0].shape)"
      ],
      "execution_count": 72,
      "outputs": [
        {
          "output_type": "stream",
          "text": [
            "(53, 1380, 46)\n"
          ],
          "name": "stdout"
        }
      ]
    },
    {
      "cell_type": "code",
      "metadata": {
        "colab": {
          "base_uri": "https://localhost:8080/"
        },
        "id": "ao04r9mNe5M6",
        "outputId": "cab3702b-790c-4854-c8e7-7d85475c3bef"
      },
      "source": [
        "# test 데이터 학습하고 추론하기 ??\n",
        "# 훈련모델로 test 데이터 추론만 하면되는거 아닌가??\n",
        "test_pred_array_map = {}\n",
        "for key in test_x_array_map.keys():\n",
        "    test_x_array = test_x_array_map[key]\n",
        "    test_pred_array_map[key] = np.zeros([test_x_array.shape[0],120])\n",
        "\n",
        "    for idx in tqdm(range(test_x_array.shape[0])):\n",
        "        try:\n",
        "            try:\n",
        "                x_series = test_x_array[idx,:,1]\n",
        "\n",
        "                model = ARIMA(x_series, order=(5,1,1))\n",
        "                fit  = model.fit()\n",
        "                preds = fit.predict(1,120, typ='levels')\n",
        "                test_pred_array_map[key][idx,:] = preds\n",
        "            except:\n",
        "                x_series = test_x_array[idx,:,1]\n",
        "                model = ARIMA(x_series, order=(4,1,1))\n",
        "                fit  = model.fit()\n",
        "                preds = fit.predict(1,120, typ='levels')\n",
        "                test_pred_array_map[key][idx,:] = preds\n",
        "        except:\n",
        "            print(idx, \" 샘플은 수렴하지 않습니다.\")\n",
        "            pass\n",
        "\n",
        "# test set coin별 수익률 확인 + 결과 합치기?"
      ],
      "execution_count": 73,
      "outputs": [
        {
          "output_type": "stream",
          "text": [
            "100%|██████████| 53/53 [01:19<00:00,  1.49s/it]\n",
            "100%|██████████| 53/53 [00:57<00:00,  1.08s/it]\n",
            "100%|██████████| 53/53 [01:21<00:00,  1.53s/it]\n",
            "100%|██████████| 53/53 [01:32<00:00,  1.75s/it]\n",
            "100%|██████████| 53/53 [01:09<00:00,  1.31s/it]\n",
            "100%|██████████| 53/53 [01:17<00:00,  1.46s/it]\n",
            "100%|██████████| 53/53 [01:07<00:00,  1.28s/it]\n",
            "100%|██████████| 53/53 [01:23<00:00,  1.57s/it]\n",
            "100%|██████████| 53/53 [00:59<00:00,  1.12s/it]\n",
            "100%|██████████| 52/52 [00:57<00:00,  1.10s/it]\n"
          ],
          "name": "stderr"
        }
      ]
    },
    {
      "cell_type": "code",
      "metadata": {
        "colab": {
          "base_uri": "https://localhost:8080/",
          "height": 877
        },
        "id": "XNXthvBhjEIC",
        "outputId": "a46ca050-05d4-412d-c6f4-57fe9275d2dd"
      },
      "source": [
        "def plot_series2(x_series):\n",
        "    #입력 series와 출력 series를 연속적으로 연결하여 시각적으로 보여주는 코드 입니다.\n",
        "    plt.plot(x_series, label = 'input_series')\n",
        "    # plt.plot(np.arange(len(x_series), len(x_series)+len(y_series)),\n",
        "    #          y_series, label = 'output_series')\n",
        "    plt.axhline(1, c = 'red')\n",
        "    plt.legend()\n",
        "\n",
        "x_series = test_x_array_map[0]\n",
        "print(x_series.shape)\n",
        "print(x_series[idx, :, 1].shape)\n",
        "preds = test_pred_array_map[0]\n",
        "print(preds.shape)\n",
        "print(preds[idx, :].shape)\n",
        "\n",
        "idx = 0\n",
        "plot_series2(x_series[idx, :, 1])\n",
        "plt.plot(np.arange(1380, 1380+120), preds[idx, :], label = 'prediction')\n",
        "plt.legend()\n",
        "plt.show()\n",
        "\n",
        "print(fit.summary())"
      ],
      "execution_count": 80,
      "outputs": [
        {
          "output_type": "stream",
          "text": [
            "(53, 1380, 46)\n",
            "(1380,)\n",
            "(53, 120)\n",
            "(120,)\n"
          ],
          "name": "stdout"
        },
        {
          "output_type": "display_data",
          "data": {
            "image/png": "[encoded data removed]",
            "text/plain": [
              "<Figure size 432x288 with 1 Axes>"
            ]
          },
          "metadata": {
            "tags": [],
            "needs_background": "light"
          }
        },
        {
          "output_type": "stream",
          "text": [
            "                             ARIMA Model Results                              \n",
            "==============================================================================\n",
            "Dep. Variable:                    D.y   No. Observations:                 1379\n",
            "Model:                 ARIMA(5, 1, 1)   Log Likelihood                6571.036\n",
            "Method:                       css-mle   S.D. of innovations              0.002\n",
            "Date:                Sat, 27 Mar 2021   AIC                         -13126.071\n",
            "Time:                        14:10:36   BIC                         -13084.238\n",
            "Sample:                             1   HQIC                        -13110.422\n",
            "                                                                              \n",
            "==============================================================================\n",
            "                 coef    std err          z      P>|z|      [0.025      0.975]\n",
            "------------------------------------------------------------------------------\n",
            "const          0.0001   6.06e-05      2.028      0.043    4.11e-06       0.000\n",
            "ar.L1.D.y     -0.1916      0.381     -0.502      0.615      -0.939       0.556\n",
            "ar.L2.D.y     -0.0431      0.056     -0.769      0.442      -0.153       0.067\n",
            "ar.L3.D.y      0.0152      0.042      0.359      0.720      -0.068       0.098\n",
            "ar.L4.D.y      0.0304      0.032      0.950      0.342      -0.032       0.093\n",
            "ar.L5.D.y     -0.0221      0.028     -0.783      0.434      -0.077       0.033\n",
            "ma.L1.D.y      0.3209      0.381      0.843      0.399      -0.425       1.067\n",
            "                                    Roots                                    \n",
            "=============================================================================\n",
            "                  Real          Imaginary           Modulus         Frequency\n",
            "-----------------------------------------------------------------------------\n",
            "AR.1           -1.8769           -0.0000j            1.8769           -0.5000\n",
            "AR.2           -0.5583           -1.8119j            1.8960           -0.2976\n",
            "AR.3           -0.5583           +1.8119j            1.8960            0.2976\n",
            "AR.4            2.1849           -1.3891j            2.5891           -0.0901\n",
            "AR.5            2.1849           +1.3891j            2.5891            0.0901\n",
            "MA.1           -3.1165           +0.0000j            3.1165            0.5000\n",
            "-----------------------------------------------------------------------------\n"
          ],
          "name": "stdout"
        }
      ]
    },
    {
      "cell_type": "code",
      "metadata": {
        "colab": {
          "base_uri": "https://localhost:8080/",
          "height": 204
        },
        "id": "6-JRv408C9Aj",
        "outputId": "402fa8a2-36fc-4b61-838a-41fbc8ce5018"
      },
      "source": [
        "submission_map = {}\n",
        "for idx in test_x_df_map.keys():\n",
        "    test_x_df = test_x_df_map[idx]\n",
        "    #print(test_x_df.shape)\n",
        "\n",
        "    # 추론한 test_pred_array를 바탕으로 submission df 생성하기\n",
        "    submission_map[idx] = array_to_submission(test_x_df, test_pred_array_map[idx])\n",
        "    \n",
        "for idx in submission_map.keys():\n",
        "    if idx == 0:\n",
        "        submission = submission_map[0]\n",
        "        continue\n",
        "    submission = pd.concat([submission, submission_map[idx]], ignore_index=True)\n",
        "\n",
        "#submission.to_csv(\"submission.csv\", index = False)\n",
        "submission.head()"
      ],
      "execution_count": 120,
      "outputs": [
        {
          "output_type": "execute_result",
          "data": {
            "text/html": [
              "<div>\n",
              "<style scoped>\n",
              "    .dataframe tbody tr th:only-of-type {\n",
              "        vertical-align: middle;\n",
              "    }\n",
              "\n",
              "    .dataframe tbody tr th {\n",
              "        vertical-align: top;\n",
              "    }\n",
              "\n",
              "    .dataframe thead th {\n",
              "        text-align: right;\n",
              "    }\n",
              "</style>\n",
              "<table border=\"1\" class=\"dataframe\">\n",
              "  <thead>\n",
              "    <tr style=\"text-align: right;\">\n",
              "      <th></th>\n",
              "      <th>sample_id</th>\n",
              "      <th>buy_quantity</th>\n",
              "      <th>sell_time</th>\n",
              "      <th>sample_id_orgin</th>\n",
              "    </tr>\n",
              "  </thead>\n",
              "  <tbody>\n",
              "    <tr>\n",
              "      <th>0</th>\n",
              "      <td>0</td>\n",
              "      <td>0</td>\n",
              "      <td>17</td>\n",
              "      <td>1</td>\n",
              "    </tr>\n",
              "    <tr>\n",
              "      <th>1</th>\n",
              "      <td>1</td>\n",
              "      <td>0</td>\n",
              "      <td>74</td>\n",
              "      <td>13</td>\n",
              "    </tr>\n",
              "    <tr>\n",
              "      <th>2</th>\n",
              "      <td>2</td>\n",
              "      <td>0</td>\n",
              "      <td>0</td>\n",
              "      <td>16</td>\n",
              "    </tr>\n",
              "    <tr>\n",
              "      <th>3</th>\n",
              "      <td>3</td>\n",
              "      <td>0</td>\n",
              "      <td>15</td>\n",
              "      <td>29</td>\n",
              "    </tr>\n",
              "    <tr>\n",
              "      <th>4</th>\n",
              "      <td>4</td>\n",
              "      <td>0</td>\n",
              "      <td>112</td>\n",
              "      <td>31</td>\n",
              "    </tr>\n",
              "  </tbody>\n",
              "</table>\n",
              "</div>"
            ],
            "text/plain": [
              "   sample_id  buy_quantity  sell_time  sample_id_orgin\n",
              "0          0             0         17                1\n",
              "1          1             0         74               13\n",
              "2          2             0          0               16\n",
              "3          3             0         15               29\n",
              "4          4             0        112               31"
            ]
          },
          "metadata": {
            "tags": []
          },
          "execution_count": 120
        }
      ]
    },
    {
      "cell_type": "code",
      "metadata": {
        "colab": {
          "base_uri": "https://localhost:8080/"
        },
        "id": "dsPRBOU5DSRG",
        "outputId": "66c59f64-7cd0-4c2d-9da6-2df892c22d54"
      },
      "source": [
        "print(len(submission))\n",
        "print(submission.head())\n",
        "\n",
        "# 컬럼제거\n",
        "submission = submission.drop(\"sample_id\", axis=1) # df = df.drop(columns=\"A\")\n",
        "print(submission.head())\n",
        "\n",
        "# 컬럼(index) 이름 변경\n",
        "submission.rename(columns = {'sample_id_orgin' : 'sample_id'}, inplace = True)\n",
        "#submission.columns = ['sample_id', 'buy_quantity', 'sell_time']\n",
        "print(submission.head())\n",
        "\n",
        "#index 변경\n",
        "submission = submission.set_index(\"sample_id\")\n",
        "print(submission.head())\n",
        "\n",
        "# 정렬\n",
        "submission = submission.sort_values(by=[\"sample_id\"], ascending=True)\n",
        "print(submission.head(10))\n",
        "\n",
        "submission.to_csv(\"submission.csv\", index = True)"
      ],
      "execution_count": 121,
      "outputs": [
        {
          "output_type": "stream",
          "text": [
            "529\n",
            "   sample_id  buy_quantity  sell_time  sample_id_orgin\n",
            "0          0             0         17                1\n",
            "1          1             0         74               13\n",
            "2          2             0          0               16\n",
            "3          3             0         15               29\n",
            "4          4             0        112               31\n",
            "   buy_quantity  sell_time  sample_id_orgin\n",
            "0             0         17                1\n",
            "1             0         74               13\n",
            "2             0          0               16\n",
            "3             0         15               29\n",
            "4             0        112               31\n",
            "   buy_quantity  sell_time  sample_id\n",
            "0             0         17          1\n",
            "1             0         74         13\n",
            "2             0          0         16\n",
            "3             0         15         29\n",
            "4             0        112         31\n",
            "           buy_quantity  sell_time\n",
            "sample_id                         \n",
            "1                     0         17\n",
            "13                    0         74\n",
            "16                    0          0\n",
            "29                    0         15\n",
            "31                    0        112\n",
            "           buy_quantity  sell_time\n",
            "sample_id                         \n",
            "0                     0          7\n",
            "1                     0         17\n",
            "2                     0        119\n",
            "3                     0         50\n",
            "4                     0        119\n",
            "5                     0         61\n",
            "6                     0         97\n",
            "7                     0          2\n",
            "8                     0         26\n",
            "9                     0        116\n"
          ],
          "name": "stdout"
        }
      ]
    },
    {
      "cell_type": "code",
      "metadata": {
        "colab": {
          "base_uri": "https://localhost:8080/"
        },
        "id": "uvMaEpJ1a8C4",
        "outputId": "9fb6cbf5-e8a5-4a80-a669-4e1451fb8da1"
      },
      "source": [
        "# 전체 300가지 sample에 대해\n",
        "# 9가지 case에서 115% 이상 상승한다고 추론함.\n",
        "print(submission.buy_quantity.value_counts())\n",
        "print(submission.shape)"
      ],
      "execution_count": 114,
      "outputs": [
        {
          "output_type": "stream",
          "text": [
            "0    505\n",
            "1     24\n",
            "Name: buy_quantity, dtype: int64\n",
            "(529, 2)\n"
          ],
          "name": "stdout"
        }
      ]
    },
    {
      "cell_type": "code",
      "metadata": {
        "colab": {
          "base_uri": "https://localhost:8080/",
          "height": 479
        },
        "id": "SUgIl4h7a989",
        "outputId": "90e2ad8b-102e-4a07-cd18-1d42a284f4ef"
      },
      "source": [
        "sum_total_momey = 0\n",
        "for idx in test_x_df_map.keys():\n",
        "    test_x_df = test_x_df_map[idx]\n",
        "    submission = submission_map[idx]\n",
        "\n",
        "    total_momey, total_momey_list = COIN(test_x_df, submission, money=1000)\n",
        "    sum_total_momey += total_momey\n",
        "    # 투자 후 금액\n",
        "    print(total_momey)\n",
        "\n",
        "print('sum_total_momey:', sum_total_momey)\n",
        "\n",
        "# 투자 히스토리\n",
        "plt.plot(total_momey_list)\n",
        "plt.title(\"history\")\n",
        "plt.show()"
      ],
      "execution_count": 115,
      "outputs": [
        {
          "output_type": "stream",
          "text": [
            "1009.7421682107649\n",
            "1006.3181052913283\n",
            "1011.6921491682841\n",
            "1031.4396417705539\n",
            "1033.560917828394\n",
            "1513.9069470545141\n",
            "1006.8950006146904\n",
            "1043.1674991382877\n",
            "1013.5708148457784\n",
            "1004.5865519310078\n",
            "sum_total_momey: 10674.879795853603\n"
          ],
          "name": "stdout"
        },
        {
          "output_type": "display_data",
          "data": {
            "image/png": "[encoded data removed]",
            "text/plain": [
              "<Figure size 432x288 with 1 Axes>"
            ]
          },
          "metadata": {
            "tags": [],
            "needs_background": "light"
          }
        }
      ]
    }
  ]
}